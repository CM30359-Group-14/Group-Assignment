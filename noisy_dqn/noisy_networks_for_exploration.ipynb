{
 "cells": [
  {
   "cell_type": "markdown",
   "metadata": {},
   "source": [
    "# Noisy Networks for Exploration\n",
    "\n",
    "Noisy Networks are a means for encouraging exploration through learning perturbations of the network weights that drive exploration.\n",
    "\n",
    "NoisyNet is an alternative to $\\epsilon$-greedy methods for exploration."
   ]
  },
  {
   "cell_type": "markdown",
   "metadata": {},
   "source": [
    "# Imports & Constants"
   ]
  },
  {
   "cell_type": "code",
   "execution_count": 1,
   "metadata": {},
   "outputs": [],
   "source": [
    "import sys\n",
    "import os\n",
    "\n",
    "# Assuming the notebook is located inside `subfolder` and\n",
    "# we want to import a module in `parent_folder`\n",
    "\n",
    "# Get the absolute path to the 'subfolder'.\n",
    "notebook_dir = os.path.dirname(os.path.abspath(\"__file__\"))\n",
    "\n",
    "# Calculate the path to the 'parent_folder' by going one level up.\n",
    "parent_dir = os.path.dirname(notebook_dir)\n",
    "\n",
    "# Add the 'parent_folder' to sys.path if it is not already there.\n",
    "if parent_dir not in sys.path:\n",
    "    sys.path.append(parent_dir)"
   ]
  },
  {
   "cell_type": "code",
   "execution_count": 2,
   "metadata": {},
   "outputs": [],
   "source": [
    "import os\n",
    "import math\n",
    "import time\n",
    "\n",
    "import gymnasium as gym\n",
    "import matplotlib.pyplot as plt\n",
    "import numpy as np\n",
    "import torch\n",
    "import torch.nn as nn\n",
    "import torch.nn.functional as F\n",
    "import torch.optim as optim\n",
    "import pandas as pd\n",
    "\n",
    "from IPython.display import clear_output\n",
    "from typing import Dict, List, Tuple\n",
    "\n",
    "from buffers import ReplayBuffer\n",
    "from agents import BaseDQNAgent, MlpDQNAgent"
   ]
  },
  {
   "cell_type": "markdown",
   "metadata": {},
   "source": [
    "# Noisy Layer"
   ]
  },
  {
   "cell_type": "code",
   "execution_count": 3,
   "metadata": {},
   "outputs": [],
   "source": [
    "class NoisyLinear(nn.Module):\n",
    "    \"\"\"\n",
    "    Class representing a Noisy Linear Module for Noisy Networks.\n",
    "    \"\"\"\n",
    "\n",
    "    def __init__(self, in_features: int, out_features: int, std_init: float = 0.5):\n",
    "        \"\"\"\n",
    "        Instantiates a NoisyLinear Module.\n",
    "        \"\"\"\n",
    "        super().__init__()\n",
    "\n",
    "        self.in_features = in_features\n",
    "        self.out_features = out_features\n",
    "        self.std_init = std_init\n",
    "\n",
    "        self.weight_mu = nn.Parameter(torch.Tensor(out_features, in_features))\n",
    "        self.weight_sigma = nn.Parameter(torch.Tensor(out_features, in_features))\n",
    "        self.register_buffer(\n",
    "            \"weight_epsilon\", torch.Tensor(out_features, in_features)\n",
    "        )\n",
    "\n",
    "        self.bias_mu = nn.Parameter(torch.Tensor(out_features))\n",
    "        self.bias_sigma = nn.Parameter(torch.Tensor(out_features))\n",
    "        self.register_buffer(\n",
    "            \"bias_epsilon\", torch.Tensor(out_features)\n",
    "        )\n",
    "\n",
    "        self.reset_parameters()\n",
    "        self.reset_noise()\n",
    "\n",
    "    def reset_parameters(self):\n",
    "        \"\"\"\n",
    "        Resets all trainable network parameters (i.e., Factorised Gaussian Noise).\n",
    "        \"\"\"\n",
    "        mu_range = 1 / math.sqrt(self.in_features)\n",
    "\n",
    "        self.weight_mu.data.uniform_(-mu_range, mu_range)\n",
    "        self.weight_sigma.data.fill_(\n",
    "            self.std_init / math.sqrt(self.in_features)\n",
    "        )\n",
    "\n",
    "        self.bias_mu.data.uniform_(-mu_range, mu_range)\n",
    "        self.bias_sigma.data.fill_(\n",
    "            self.std_init / math.sqrt(self.out_features)\n",
    "        )\n",
    "\n",
    "    def reset_noise(self):\n",
    "        \"\"\"\n",
    "        Makes new noise.\n",
    "        \"\"\"\n",
    "        epsilon_in = self.scale_noise(self.in_features)\n",
    "        epsilon_out = self.scale_noise(self.out_features)\n",
    "\n",
    "        # Perform the outer product.\n",
    "        self.weight_epsilon.copy_(epsilon_out.ger(epsilon_in))\n",
    "        self.bias_epsilon.copy_(epsilon_out)\n",
    "\n",
    "    def forward(self, x: torch.Tensor) -> torch.Tensor:\n",
    "        \"\"\"\n",
    "        Performs a forward pass of the layer.\n",
    "        \"\"\"\n",
    "        return F.linear(\n",
    "            x,\n",
    "            self.weight_mu + self.weight_sigma * self.weight_epsilon,\n",
    "            self.bias_mu + self.bias_sigma * self.bias_epsilon,\n",
    "        )\n",
    "    \n",
    "    @staticmethod\n",
    "    def scale_noise(size: int) -> torch.Tensor:\n",
    "        \"\"\"\n",
    "        Sets the scale to make noise acrosss. Specifically, Factorised Gaussian Noise.\n",
    "        \"\"\"\n",
    "        x = torch.randn(size)\n",
    "\n",
    "        return x.sign().mul(x.abs().sqrt())"
   ]
  },
  {
   "cell_type": "markdown",
   "metadata": {},
   "source": [
    "# Noisy Network"
   ]
  },
  {
   "cell_type": "code",
   "execution_count": 4,
   "metadata": {},
   "outputs": [],
   "source": [
    "class NoisyNetwork(nn.Module):\n",
    "    \"\"\"\n",
    "    Class representing a Noisy Neural Network for exploration.\n",
    "    \"\"\"\n",
    "\n",
    "    def __init__(self, in_dim: int, out_dim: int):\n",
    "        \"\"\"\n",
    "        Instantiates a NoisyNetwork.\n",
    "        \"\"\"\n",
    "        super().__init__()\n",
    "\n",
    "        self.features = nn.Linear(in_dim, 128)\n",
    "        self.noisy_layer1 = NoisyLinear(128, 128)\n",
    "        self.noisy_layer2 = NoisyLinear(128, out_dim)\n",
    "\n",
    "    def forward(self, x: torch.Tensor) -> torch.Tensor:\n",
    "        \"\"\"\n",
    "        Performs a forward pass of the neural network.\n",
    "        \"\"\"\n",
    "        features = F.relu(self.features(x))\n",
    "        hidden = F.relu(self.noisy_layer1(features))\n",
    "\n",
    "        return self.noisy_layer2(hidden)\n",
    "    \n",
    "    def reset_noise(self):\n",
    "        \"\"\"\n",
    "        Resets all noisy layers.\n",
    "        \"\"\"\n",
    "        self.noisy_layer1.reset_noise()\n",
    "        self.noisy_layer2.reset_noise()"
   ]
  },
  {
   "cell_type": "markdown",
   "metadata": {},
   "source": [
    "# Noisy Network DQN Agent"
   ]
  },
  {
   "cell_type": "code",
   "execution_count": 5,
   "metadata": {},
   "outputs": [],
   "source": [
    "class NoisyDQNAgent(MlpDQNAgent):\n",
    "\n",
    "    def __init__(\n",
    "        self,\n",
    "        env: gym.Env,\n",
    "        memory_size: int,\n",
    "        batch_size: int,\n",
    "        target_update: int,\n",
    "        seed: int,\n",
    "        gamma: float = 0.99,\n",
    "    ):\n",
    "        super().__init__(\n",
    "            env, \n",
    "            memory_size, \n",
    "            batch_size, \n",
    "            target_update, \n",
    "            seed=seed, \n",
    "            gamma=gamma\n",
    "        )\n",
    "        # Noisy DQN Networks.\n",
    "        obs_dim = np.prod(self.obs_shape)\n",
    "        self.dqn = NoisyNetwork(obs_dim, self.action_dim).to(self.device)\n",
    "        self.dqn_target = NoisyNetwork(obs_dim, self.action_dim).to(self.device)\n",
    "        self.dqn_target.load_state_dict(self.dqn.state_dict())\n",
    "        self.dqn_target.eval()\n",
    "\n",
    "        # Optimiser\n",
    "        self.optimiser = optim.Adam(self.dqn.parameters())\n",
    "\n",
    "    def select_action(self, state: np.ndarray, determinstic: bool = False) -> np.ndarray:\n",
    "        # As we are using noisy networks, we do not use an epsilon-greedy policy for\n",
    "        # action selection.\n",
    "        flattened_state = state.flatten()\n",
    "\n",
    "        selected_action = self.dqn(\n",
    "            torch.Tensor(flattened_state).to(self.device)\n",
    "        ).argmax()\n",
    "        selected_action = selected_action.detach().cpu().numpy()\n",
    "\n",
    "        if not self.is_test:\n",
    "            self.transition = [state, selected_action]\n",
    "\n",
    "        return selected_action\n",
    "    \n",
    "    def update_model(self) -> torch.Tensor:\n",
    "        samples = self.memory.sample_batch()\n",
    "\n",
    "        loss = self._compute_dqn_loss(samples)\n",
    "\n",
    "        self.optimiser.zero_grad()\n",
    "        loss.backward()\n",
    "        self.optimiser.step()\n",
    "\n",
    "        # Reset the noise in the noisy network layers.\n",
    "        self.dqn.reset_noise()\n",
    "        self.dqn_target.reset_noise()\n",
    "\n",
    "        return loss.item()"
   ]
  },
  {
   "cell_type": "markdown",
   "metadata": {},
   "source": [
    "# Train an agent"
   ]
  },
  {
   "cell_type": "code",
   "execution_count": 6,
   "metadata": {},
   "outputs": [],
   "source": [
    "config = {\n",
    "    'lanes_count': 4,\n",
    "    'duration': 50,\n",
    "}"
   ]
  },
  {
   "cell_type": "code",
   "execution_count": 7,
   "metadata": {},
   "outputs": [],
   "source": [
    "env = gym.make(\"highway-fast-v0\", render_mode=\"rgb_array\")\n",
    "env.unwrapped.configure(config)\n",
    "obs, info = env.reset()"
   ]
  },
  {
   "cell_type": "code",
   "execution_count": 8,
   "metadata": {},
   "outputs": [
    {
     "name": "stdout",
     "output_type": "stream",
     "text": [
      "cuda\n"
     ]
    }
   ],
   "source": [
    "seed = 777\n",
    "num_frames = 200_000\n",
    "memory_size = 10_000\n",
    "gamma = 0.85\n",
    "batch_size = 64\n",
    "target_update = 50\n",
    "\n",
    "agent = NoisyDQNAgent(\n",
    "    env,\n",
    "    memory_size,\n",
    "    batch_size,\n",
    "    target_update,\n",
    "    seed,\n",
    "    gamma = gamma\n",
    ")"
   ]
  },
  {
   "cell_type": "code",
   "execution_count": 9,
   "metadata": {},
   "outputs": [
    {
     "data": {
      "image/png": "[encoded data removed]",
      "text/plain": [
       "<Figure size 2000x500 with 3 Axes>"
      ]
     },
     "metadata": {},
     "output_type": "display_data"
    }
   ],
   "source": [
    "scores, losses, _ = agent.train(num_frames)"
   ]
  },
  {
   "cell_type": "code",
   "execution_count": 10,
   "metadata": {},
   "outputs": [],
   "source": [
    "# pd.DataFrame({\"Noisy DQN\": scores}).to_csv(\"../results/noisy_dqn.csv\")"
   ]
  },
  {
   "cell_type": "markdown",
   "metadata": {},
   "source": [
    "# Test the agent"
   ]
  },
  {
   "cell_type": "code",
   "execution_count": 11,
   "metadata": {},
   "outputs": [
    {
     "data": {
      "image/png": "[encoded data removed]",
      "text/plain": [
       "<Figure size 640x480 with 1 Axes>"
      ]
     },
     "metadata": {},
     "output_type": "display_data"
    }
   ],
   "source": [
    "ep_lens, ep_rews = agent.test(1, time_interval=0.01)"
   ]
  },
  {
   "cell_type": "code",
   "execution_count": 12,
   "metadata": {},
   "outputs": [
    {
     "name": "stdout",
     "output_type": "stream",
     "text": [
      "Mean Episode Length: 50.0\n",
      "Mean Score Per Episode: 42.77199810500862\n"
     ]
    }
   ],
   "source": [
    "print(\"Mean Episode Length:\", np.mean(ep_lens))\n",
    "print(\"Mean Score Per Episode:\", np.mean(ep_rews))"
   ]
  },
  {
   "cell_type": "markdown",
   "metadata": {},
   "source": [
    "# Film the agent"
   ]
  },
  {
   "cell_type": "code",
   "execution_count": 13,
   "metadata": {},
   "outputs": [],
   "source": [
    "from gymnasium.wrappers import RecordVideo\n",
    "from agents import BaseDQNAgent"
   ]
  },
  {
   "cell_type": "code",
   "execution_count": 14,
   "metadata": {},
   "outputs": [],
   "source": [
    "env = gym.make(\"highway-v0\", render_mode=\"rgb_array\")"
   ]
  },
  {
   "cell_type": "code",
   "execution_count": 15,
   "metadata": {},
   "outputs": [],
   "source": [
    "def film(env: gym.Env, test_agent: BaseDQNAgent, film_length: int, video_folder: str):\n",
    "    vid_env = RecordVideo(env, video_folder=video_folder,\n",
    "              episode_trigger=lambda e: True)  # record all episodes\n",
    "\n",
    "    # Provide the video recorder to the wrapped environment\n",
    "    # so it can send it intermediate simulation frames.\n",
    "    vid_env.unwrapped.set_record_video_wrapper(vid_env)\n",
    "\n",
    "    test_agent.set_mode(is_test=True)\n",
    "\n",
    "    for i in range(film_length):\n",
    "        obs, info = vid_env.reset()\n",
    "        done = truncated = False\n",
    "\n",
    "        while not (done or truncated):\n",
    "            action = test_agent.predict(obs, determinstic=True)\n",
    "            obs, reward, done, truncated, info = vid_env.step(action)\n",
    "            vid_env.render()\n",
    "        vid_env.close()"
   ]
  },
  {
   "cell_type": "markdown",
   "metadata": {},
   "source": [
    "## Before Training"
   ]
  },
  {
   "cell_type": "code",
   "execution_count": 16,
   "metadata": {},
   "outputs": [
    {
     "name": "stdout",
     "output_type": "stream",
     "text": [
      "cuda\n",
      "Moviepy - Building video /home/sowell/projects/rl_group_assignment/videos/noisy_dqn/untrained/rl-video-episode-0.mp4.\n",
      "Moviepy - Writing video /home/sowell/projects/rl_group_assignment/videos/noisy_dqn/untrained/rl-video-episode-0.mp4\n",
      "\n"
     ]
    },
    {
     "name": "stderr",
     "output_type": "stream",
     "text": [
      "                                                                \r"
     ]
    },
    {
     "name": "stdout",
     "output_type": "stream",
     "text": [
      "Moviepy - Done !\n",
      "Moviepy - video ready /home/sowell/projects/rl_group_assignment/videos/noisy_dqn/untrained/rl-video-episode-0.mp4\n",
      "Moviepy - Building video /home/sowell/projects/rl_group_assignment/videos/noisy_dqn/untrained/rl-video-episode-1.mp4.\n",
      "Moviepy - Writing video /home/sowell/projects/rl_group_assignment/videos/noisy_dqn/untrained/rl-video-episode-1.mp4\n",
      "\n"
     ]
    },
    {
     "name": "stderr",
     "output_type": "stream",
     "text": [
      "                                                                \r"
     ]
    },
    {
     "name": "stdout",
     "output_type": "stream",
     "text": [
      "Moviepy - Done !\n",
      "Moviepy - video ready /home/sowell/projects/rl_group_assignment/videos/noisy_dqn/untrained/rl-video-episode-1.mp4\n",
      "Moviepy - Building video /home/sowell/projects/rl_group_assignment/videos/noisy_dqn/untrained/rl-video-episode-2.mp4.\n",
      "Moviepy - Writing video /home/sowell/projects/rl_group_assignment/videos/noisy_dqn/untrained/rl-video-episode-2.mp4\n",
      "\n"
     ]
    },
    {
     "name": "stderr",
     "output_type": "stream",
     "text": [
      "                                                                \r"
     ]
    },
    {
     "name": "stdout",
     "output_type": "stream",
     "text": [
      "Moviepy - Done !\n",
      "Moviepy - video ready /home/sowell/projects/rl_group_assignment/videos/noisy_dqn/untrained/rl-video-episode-2.mp4\n",
      "Moviepy - Building video /home/sowell/projects/rl_group_assignment/videos/noisy_dqn/untrained/rl-video-episode-3.mp4.\n",
      "Moviepy - Writing video /home/sowell/projects/rl_group_assignment/videos/noisy_dqn/untrained/rl-video-episode-3.mp4\n",
      "\n"
     ]
    },
    {
     "name": "stderr",
     "output_type": "stream",
     "text": [
      "                                                                \r"
     ]
    },
    {
     "name": "stdout",
     "output_type": "stream",
     "text": [
      "Moviepy - Done !\n",
      "Moviepy - video ready /home/sowell/projects/rl_group_assignment/videos/noisy_dqn/untrained/rl-video-episode-3.mp4\n",
      "Moviepy - Building video /home/sowell/projects/rl_group_assignment/videos/noisy_dqn/untrained/rl-video-episode-4.mp4.\n",
      "Moviepy - Writing video /home/sowell/projects/rl_group_assignment/videos/noisy_dqn/untrained/rl-video-episode-4.mp4\n",
      "\n"
     ]
    },
    {
     "name": "stderr",
     "output_type": "stream",
     "text": [
      "                                                                \r"
     ]
    },
    {
     "name": "stdout",
     "output_type": "stream",
     "text": [
      "Moviepy - Done !\n",
      "Moviepy - video ready /home/sowell/projects/rl_group_assignment/videos/noisy_dqn/untrained/rl-video-episode-4.mp4\n",
      "Moviepy - Building video /home/sowell/projects/rl_group_assignment/videos/noisy_dqn/untrained/rl-video-episode-5.mp4.\n",
      "Moviepy - Writing video /home/sowell/projects/rl_group_assignment/videos/noisy_dqn/untrained/rl-video-episode-5.mp4\n",
      "\n"
     ]
    },
    {
     "name": "stderr",
     "output_type": "stream",
     "text": [
      "                                                                \r"
     ]
    },
    {
     "name": "stdout",
     "output_type": "stream",
     "text": [
      "Moviepy - Done !\n",
      "Moviepy - video ready /home/sowell/projects/rl_group_assignment/videos/noisy_dqn/untrained/rl-video-episode-5.mp4\n",
      "Moviepy - Building video /home/sowell/projects/rl_group_assignment/videos/noisy_dqn/untrained/rl-video-episode-6.mp4.\n",
      "Moviepy - Writing video /home/sowell/projects/rl_group_assignment/videos/noisy_dqn/untrained/rl-video-episode-6.mp4\n",
      "\n"
     ]
    },
    {
     "name": "stderr",
     "output_type": "stream",
     "text": [
      "                                                              \r"
     ]
    },
    {
     "name": "stdout",
     "output_type": "stream",
     "text": [
      "Moviepy - Done !\n",
      "Moviepy - video ready /home/sowell/projects/rl_group_assignment/videos/noisy_dqn/untrained/rl-video-episode-6.mp4\n",
      "Moviepy - Building video /home/sowell/projects/rl_group_assignment/videos/noisy_dqn/untrained/rl-video-episode-7.mp4.\n",
      "Moviepy - Writing video /home/sowell/projects/rl_group_assignment/videos/noisy_dqn/untrained/rl-video-episode-7.mp4\n",
      "\n"
     ]
    },
    {
     "name": "stderr",
     "output_type": "stream",
     "text": [
      "                                                                \r"
     ]
    },
    {
     "name": "stdout",
     "output_type": "stream",
     "text": [
      "Moviepy - Done !\n",
      "Moviepy - video ready /home/sowell/projects/rl_group_assignment/videos/noisy_dqn/untrained/rl-video-episode-7.mp4\n",
      "Moviepy - Building video /home/sowell/projects/rl_group_assignment/videos/noisy_dqn/untrained/rl-video-episode-8.mp4.\n",
      "Moviepy - Writing video /home/sowell/projects/rl_group_assignment/videos/noisy_dqn/untrained/rl-video-episode-8.mp4\n",
      "\n"
     ]
    },
    {
     "name": "stderr",
     "output_type": "stream",
     "text": [
      "                                                                \r"
     ]
    },
    {
     "name": "stdout",
     "output_type": "stream",
     "text": [
      "Moviepy - Done !\n",
      "Moviepy - video ready /home/sowell/projects/rl_group_assignment/videos/noisy_dqn/untrained/rl-video-episode-8.mp4\n",
      "Moviepy - Building video /home/sowell/projects/rl_group_assignment/videos/noisy_dqn/untrained/rl-video-episode-9.mp4.\n",
      "Moviepy - Writing video /home/sowell/projects/rl_group_assignment/videos/noisy_dqn/untrained/rl-video-episode-9.mp4\n",
      "\n"
     ]
    },
    {
     "name": "stderr",
     "output_type": "stream",
     "text": [
      "                                                                "
     ]
    },
    {
     "name": "stdout",
     "output_type": "stream",
     "text": [
      "Moviepy - Done !\n",
      "Moviepy - video ready /home/sowell/projects/rl_group_assignment/videos/noisy_dqn/untrained/rl-video-episode-9.mp4\n"
     ]
    },
    {
     "name": "stderr",
     "output_type": "stream",
     "text": [
      "\r"
     ]
    }
   ],
   "source": [
    "untrained_agent = NoisyDQNAgent(\n",
    "    env,\n",
    "    memory_size,\n",
    "    batch_size,\n",
    "    target_update,\n",
    "    seed,\n",
    "    gamma = gamma\n",
    ")\n",
    "\n",
    "film(env, untrained_agent, 10, \"../videos/noisy_dqn/untrained/\")"
   ]
  },
  {
   "cell_type": "markdown",
   "metadata": {},
   "source": [
    "## After training"
   ]
  },
  {
   "cell_type": "code",
   "execution_count": 17,
   "metadata": {},
   "outputs": [
    {
     "name": "stdout",
     "output_type": "stream",
     "text": [
      "Moviepy - Building video /home/sowell/projects/rl_group_assignment/videos/noisy_dqn/trained/rl-video-episode-0.mp4.\n",
      "Moviepy - Writing video /home/sowell/projects/rl_group_assignment/videos/noisy_dqn/trained/rl-video-episode-0.mp4\n",
      "\n"
     ]
    },
    {
     "name": "stderr",
     "output_type": "stream",
     "text": [
      "                                                                \r"
     ]
    },
    {
     "name": "stdout",
     "output_type": "stream",
     "text": [
      "Moviepy - Done !\n",
      "Moviepy - video ready /home/sowell/projects/rl_group_assignment/videos/noisy_dqn/trained/rl-video-episode-0.mp4\n",
      "Moviepy - Building video /home/sowell/projects/rl_group_assignment/videos/noisy_dqn/trained/rl-video-episode-1.mp4.\n",
      "Moviepy - Writing video /home/sowell/projects/rl_group_assignment/videos/noisy_dqn/trained/rl-video-episode-1.mp4\n",
      "\n"
     ]
    },
    {
     "name": "stderr",
     "output_type": "stream",
     "text": [
      "                                                                \r"
     ]
    },
    {
     "name": "stdout",
     "output_type": "stream",
     "text": [
      "Moviepy - Done !\n",
      "Moviepy - video ready /home/sowell/projects/rl_group_assignment/videos/noisy_dqn/trained/rl-video-episode-1.mp4\n",
      "Moviepy - Building video /home/sowell/projects/rl_group_assignment/videos/noisy_dqn/trained/rl-video-episode-2.mp4.\n",
      "Moviepy - Writing video /home/sowell/projects/rl_group_assignment/videos/noisy_dqn/trained/rl-video-episode-2.mp4\n",
      "\n"
     ]
    },
    {
     "name": "stderr",
     "output_type": "stream",
     "text": [
      "                                                                \r"
     ]
    },
    {
     "name": "stdout",
     "output_type": "stream",
     "text": [
      "Moviepy - Done !\n",
      "Moviepy - video ready /home/sowell/projects/rl_group_assignment/videos/noisy_dqn/trained/rl-video-episode-2.mp4\n",
      "Moviepy - Building video /home/sowell/projects/rl_group_assignment/videos/noisy_dqn/trained/rl-video-episode-3.mp4.\n",
      "Moviepy - Writing video /home/sowell/projects/rl_group_assignment/videos/noisy_dqn/trained/rl-video-episode-3.mp4\n",
      "\n"
     ]
    },
    {
     "name": "stderr",
     "output_type": "stream",
     "text": [
      "                                                                \r"
     ]
    },
    {
     "name": "stdout",
     "output_type": "stream",
     "text": [
      "Moviepy - Done !\n",
      "Moviepy - video ready /home/sowell/projects/rl_group_assignment/videos/noisy_dqn/trained/rl-video-episode-3.mp4\n",
      "Moviepy - Building video /home/sowell/projects/rl_group_assignment/videos/noisy_dqn/trained/rl-video-episode-4.mp4.\n",
      "Moviepy - Writing video /home/sowell/projects/rl_group_assignment/videos/noisy_dqn/trained/rl-video-episode-4.mp4\n",
      "\n"
     ]
    },
    {
     "name": "stderr",
     "output_type": "stream",
     "text": [
      "                                                                \r"
     ]
    },
    {
     "name": "stdout",
     "output_type": "stream",
     "text": [
      "Moviepy - Done !\n",
      "Moviepy - video ready /home/sowell/projects/rl_group_assignment/videos/noisy_dqn/trained/rl-video-episode-4.mp4\n",
      "Moviepy - Building video /home/sowell/projects/rl_group_assignment/videos/noisy_dqn/trained/rl-video-episode-5.mp4.\n",
      "Moviepy - Writing video /home/sowell/projects/rl_group_assignment/videos/noisy_dqn/trained/rl-video-episode-5.mp4\n",
      "\n"
     ]
    },
    {
     "name": "stderr",
     "output_type": "stream",
     "text": [
      "                                                                \r"
     ]
    },
    {
     "name": "stdout",
     "output_type": "stream",
     "text": [
      "Moviepy - Done !\n",
      "Moviepy - video ready /home/sowell/projects/rl_group_assignment/videos/noisy_dqn/trained/rl-video-episode-5.mp4\n",
      "Moviepy - Building video /home/sowell/projects/rl_group_assignment/videos/noisy_dqn/trained/rl-video-episode-6.mp4.\n",
      "Moviepy - Writing video /home/sowell/projects/rl_group_assignment/videos/noisy_dqn/trained/rl-video-episode-6.mp4\n",
      "\n"
     ]
    },
    {
     "name": "stderr",
     "output_type": "stream",
     "text": [
      "                                                              "
     ]
    },
    {
     "name": "stdout",
     "output_type": "stream",
     "text": [
      "Moviepy - Done !\n",
      "Moviepy - video ready /home/sowell/projects/rl_group_assignment/videos/noisy_dqn/trained/rl-video-episode-6.mp4\n"
     ]
    },
    {
     "name": "stderr",
     "output_type": "stream",
     "text": [
      "\r"
     ]
    },
    {
     "name": "stdout",
     "output_type": "stream",
     "text": [
      "Moviepy - Building video /home/sowell/projects/rl_group_assignment/videos/noisy_dqn/trained/rl-video-episode-7.mp4.\n",
      "Moviepy - Writing video /home/sowell/projects/rl_group_assignment/videos/noisy_dqn/trained/rl-video-episode-7.mp4\n",
      "\n"
     ]
    },
    {
     "name": "stderr",
     "output_type": "stream",
     "text": [
      "                                                                \r"
     ]
    },
    {
     "name": "stdout",
     "output_type": "stream",
     "text": [
      "Moviepy - Done !\n",
      "Moviepy - video ready /home/sowell/projects/rl_group_assignment/videos/noisy_dqn/trained/rl-video-episode-7.mp4\n",
      "Moviepy - Building video /home/sowell/projects/rl_group_assignment/videos/noisy_dqn/trained/rl-video-episode-8.mp4.\n",
      "Moviepy - Writing video /home/sowell/projects/rl_group_assignment/videos/noisy_dqn/trained/rl-video-episode-8.mp4\n",
      "\n"
     ]
    },
    {
     "name": "stderr",
     "output_type": "stream",
     "text": [
      "                                                   "
     ]
    },
    {
     "name": "stdout",
     "output_type": "stream",
     "text": [
      "Moviepy - Done !\n",
      "Moviepy - video ready /home/sowell/projects/rl_group_assignment/videos/noisy_dqn/trained/rl-video-episode-8.mp4\n"
     ]
    },
    {
     "name": "stderr",
     "output_type": "stream",
     "text": [
      "\r"
     ]
    },
    {
     "name": "stdout",
     "output_type": "stream",
     "text": [
      "Moviepy - Building video /home/sowell/projects/rl_group_assignment/videos/noisy_dqn/trained/rl-video-episode-9.mp4.\n",
      "Moviepy - Writing video /home/sowell/projects/rl_group_assignment/videos/noisy_dqn/trained/rl-video-episode-9.mp4\n",
      "\n"
     ]
    },
    {
     "name": "stderr",
     "output_type": "stream",
     "text": [
      "                                                                "
     ]
    },
    {
     "name": "stdout",
     "output_type": "stream",
     "text": [
      "Moviepy - Done !\n",
      "Moviepy - video ready /home/sowell/projects/rl_group_assignment/videos/noisy_dqn/trained/rl-video-episode-9.mp4\n"
     ]
    },
    {
     "name": "stderr",
     "output_type": "stream",
     "text": [
      "\r"
     ]
    }
   ],
   "source": [
    "film(env, agent, 10, \"../videos/noisy_dqn/trained/\")"
   ]
  },
  {
   "cell_type": "code",
   "execution_count": null,
   "metadata": {},
   "outputs": [],
   "source": []
  }
 ],
 "metadata": {
  "kernelspec": {
   "display_name": "venv",
   "language": "python",
   "name": "python3"
  },
  "language_info": {
   "codemirror_mode": {
    "name": "ipython",
    "version": 3
   },
   "file_extension": ".py",
   "mimetype": "text/x-python",
   "name": "python",
   "nbconvert_exporter": "python",
   "pygments_lexer": "ipython3",
   "version": "3.11.5"
  }
 },
 "nbformat": 4,
 "nbformat_minor": 2
}
