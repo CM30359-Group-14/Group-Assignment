{
 "cells": [
  {
   "cell_type": "markdown",
   "metadata": {},
   "source": [
    "# Double DQN From Scratch\n",
    "\n",
    "The max operator in standard Q-Learning and DQN uses the same values to select and evaluate actions. This makes the value function likely to overestimate values, resulting in overoptimistic estimates.\n",
    "\n",
    "The idea of Double Q-Learning is to reduce the overestimations by decomposing the max operation in the TD target into action selection and action evaluation."
   ]
  },
  {
   "cell_type": "markdown",
   "metadata": {},
   "source": [
    "# Imports & Constants"
   ]
  },
  {
   "cell_type": "markdown",
   "metadata": {},
   "source": []
  }
 ],
 "metadata": {
  "kernelspec": {
   "display_name": "venv",
   "language": "python",
   "name": "python3"
  },
  "language_info": {
   "name": "python",
   "version": "3.11.5"
  }
 },
 "nbformat": 4,
 "nbformat_minor": 2
}
