{
 "cells": [
  {
   "cell_type": "markdown",
   "metadata": {},
   "source": [
    "# Dueling Networks from Scratch\n",
    "\n",
    "The dueling architecture explicitly separates the representation of state values from (state-dependent) action advantage values."
   ]
  },
  {
   "cell_type": "markdown",
   "metadata": {},
   "source": [
    "# Imports & Constants"
   ]
  },
  {
   "cell_type": "code",
   "execution_count": 1,
   "metadata": {},
   "outputs": [],
   "source": [
    "import sys\n",
    "import os\n",
    "\n",
    "# Assuming the notebook is located inside `subfolder` and\n",
    "# we want to import a module in `parent_folder`\n",
    "\n",
    "# Get the absolute path to the 'subfolder'.\n",
    "notebook_dir = os.path.dirname(os.path.abspath(\"__file__\"))\n",
    "\n",
    "# Calculate the path to the 'parent_folder' by going one level up.\n",
    "parent_dir = os.path.dirname(notebook_dir)\n",
    "\n",
    "# Add the 'parent_folder' to sys.path if it is not already there.\n",
    "if parent_dir not in sys.path:\n",
    "    sys.path.append(parent_dir)"
   ]
  },
  {
   "cell_type": "code",
   "execution_count": 2,
   "metadata": {},
   "outputs": [],
   "source": [
    "import os\n",
    "from typing import Dict, List, Tuple\n",
    "\n",
    "import gymnasium as gym\n",
    "import matplotlib.pyplot as plt\n",
    "import numpy as np\n",
    "import torch\n",
    "import torch.nn as nn\n",
    "import torch.nn.functional as F\n",
    "import torch.optim as optim\n",
    "import pandas as pd\n",
    "\n",
    "from IPython.display import clear_output\n",
    "from torch.nn.utils import clip_grad_norm_\n",
    "\n",
    "from buffers import ReplayBuffer\n",
    "import time\n",
    "from agents import MlpDQNAgent"
   ]
  },
  {
   "cell_type": "markdown",
   "metadata": {},
   "source": [
    "# Dueling Network"
   ]
  },
  {
   "cell_type": "code",
   "execution_count": 3,
   "metadata": {},
   "outputs": [],
   "source": [
    "class DuelingNetwork(nn.Module):\n",
    "\n",
    "    def __init__(self, in_dim: int, out_dim: int):\n",
    "        \"\"\"\n",
    "        Instantiates a Duelling Neural Network.\n",
    "        \"\"\"\n",
    "        super().__init__()\n",
    "\n",
    "        # Common feature layer.\n",
    "        self.feature_layer = nn.Sequential(\n",
    "            nn.Linear(in_dim, 128),\n",
    "            nn.ReLU(),\n",
    "        )\n",
    "\n",
    "        # Advantage layer\n",
    "        self.advantage_layer = nn.Sequential(\n",
    "            nn.Linear(128, 128),\n",
    "            nn.ReLU(),\n",
    "            nn.Linear(128, out_dim),\n",
    "        )\n",
    "\n",
    "        # Value layer\n",
    "        self.value_layer = nn.Sequential(\n",
    "            nn.Linear(128, 128),\n",
    "            nn.ReLU(),\n",
    "            nn.Linear(128, 1),\n",
    "        )\n",
    "\n",
    "    def forward(self, x: torch.Tensor) -> torch.Tensor:\n",
    "        \"\"\"\n",
    "        Performs a forward pass of the neural network.\n",
    "        \"\"\"\n",
    "        feature = self.feature_layer(x)\n",
    "\n",
    "        s_value = self.value_layer(feature)\n",
    "        advantage = self.advantage_layer(feature)\n",
    "\n",
    "        q_value = s_value + advantage - advantage.mean(dim=-1, keepdim=True)\n",
    "\n",
    "        return q_value"
   ]
  },
  {
   "cell_type": "markdown",
   "metadata": {},
   "source": [
    "# Dueling DQN Agent"
   ]
  },
  {
   "cell_type": "code",
   "execution_count": 4,
   "metadata": {},
   "outputs": [],
   "source": [
    "class DuelingDQNAgent(MlpDQNAgent):\n",
    "    \"\"\"\n",
    "    Class representing a DQN agent with Dueling Networks.\n",
    "    \"\"\"\n",
    "\n",
    "    def __init__(\n",
    "        self,\n",
    "        env: gym.Env,\n",
    "        memory_size: int,\n",
    "        batch_size: int,\n",
    "        target_update: int,\n",
    "        epsilon_decay: float,\n",
    "        seed: int,\n",
    "        max_epsilon: float = 1.0,\n",
    "        min_epsilon: float = 0.1,\n",
    "        gamma: float = 0.99,\n",
    "    ):\n",
    "        super().__init__(\n",
    "            env, \n",
    "            memory_size, \n",
    "            batch_size, \n",
    "            target_update, \n",
    "            epsilon_decay, \n",
    "            seed, \n",
    "            max_epsilon, \n",
    "            min_epsilon, \n",
    "            gamma\n",
    "        )\n",
    "\n",
    "        # Networks: DQN behaviour network, DQN target network\n",
    "        self.dqn = DuelingNetwork(self.obs_dim, self.action_dim).to(self.device)\n",
    "        self.dqn_target = DuelingNetwork(self.obs_dim, self.action_dim).to(self.device)\n",
    "        self.dqn_target.load_state_dict(self.dqn.state_dict())\n",
    "        self.dqn_target.eval()\n",
    "\n",
    "        # Optimiser\n",
    "        self.optimiser = optim.Adam(self.dqn.parameters())\n",
    "    \n",
    "    def update_model(self) -> torch.Tensor:\n",
    "        \"\"\"\n",
    "        Updates the model by gradient descent.\n",
    "        \"\"\"\n",
    "        samples = self.memory.sample_batch()\n",
    "\n",
    "        loss = self._compute_dqn_loss(samples)\n",
    "        \n",
    "        self.optimiser.zero_grad()\n",
    "        loss.backward()\n",
    "\n",
    "        # Dueling DQN: We clip the gradients to have their norm less than or equal to 10.\n",
    "        clip_grad_norm_(self.dqn.parameters(), 10.0)\n",
    "\n",
    "        self.optimiser.step()\n",
    "\n",
    "        return loss.item()"
   ]
  },
  {
   "cell_type": "markdown",
   "metadata": {},
   "source": [
    "# Train an agent"
   ]
  },
  {
   "cell_type": "code",
   "execution_count": 16,
   "metadata": {},
   "outputs": [],
   "source": [
    "config = {\n",
    "    'duration': 50,\n",
    "    'lanes_count': 4,\n",
    "}"
   ]
  },
  {
   "cell_type": "code",
   "execution_count": 17,
   "metadata": {},
   "outputs": [],
   "source": [
    "env = gym.make(\"highway-fast-v0\", render_mode=\"rgb_array\")\n",
    "env.unwrapped.configure(config)\n",
    "obs, info = env.reset()"
   ]
  },
  {
   "cell_type": "code",
   "execution_count": 7,
   "metadata": {},
   "outputs": [
    {
     "name": "stdout",
     "output_type": "stream",
     "text": [
      "cuda\n"
     ]
    }
   ],
   "source": [
    "seed = 777\n",
    "num_frames = 200_000\n",
    "memory_size = 10_000\n",
    "gamma = 0.85\n",
    "batch_size = 64\n",
    "target_update = 50\n",
    "epsilon_decay = 1 / (num_frames // 10)\n",
    "\n",
    "agent = DuelingDQNAgent(\n",
    "    env,\n",
    "    memory_size,\n",
    "    batch_size,\n",
    "    target_update,\n",
    "    epsilon_decay,\n",
    "    seed,\n",
    "    gamma = gamma\n",
    ")"
   ]
  },
  {
   "cell_type": "code",
   "execution_count": 8,
   "metadata": {},
   "outputs": [
    {
     "data": {
      "image/png": "[encoded data removed]",
      "text/plain": [
       "<Figure size 2000x500 with 3 Axes>"
      ]
     },
     "metadata": {},
     "output_type": "display_data"
    }
   ],
   "source": [
    "scores, losses, epsilons = agent.train(num_frames)"
   ]
  },
  {
   "cell_type": "code",
   "execution_count": 9,
   "metadata": {},
   "outputs": [],
   "source": [
    "# pd.DataFrame({\"Dueling DQN\": scores}).to_csv(\"../results/dueling_dqn.csv\")"
   ]
  },
  {
   "cell_type": "markdown",
   "metadata": {},
   "source": [
    "# Test the agent"
   ]
  },
  {
   "cell_type": "code",
   "execution_count": 10,
   "metadata": {},
   "outputs": [
    {
     "data": {
      "image/png": "[encoded data removed]",
      "text/plain": [
       "<Figure size 640x480 with 1 Axes>"
      ]
     },
     "metadata": {},
     "output_type": "display_data"
    }
   ],
   "source": [
    "ep_lens, ep_rews = agent.test(1, time_interval=0.01)"
   ]
  },
  {
   "cell_type": "code",
   "execution_count": 11,
   "metadata": {},
   "outputs": [
    {
     "name": "stdout",
     "output_type": "stream",
     "text": [
      "Mean Episode Length: 50.0\n",
      "Mean Score Per Episode: 46.746812789701664\n"
     ]
    }
   ],
   "source": [
    "print(\"Mean Episode Length:\", np.mean(ep_lens))\n",
    "print(\"Mean Score Per Episode:\", np.mean(ep_rews))"
   ]
  },
  {
   "cell_type": "markdown",
   "metadata": {},
   "source": [
    "# Film the agent"
   ]
  },
  {
   "cell_type": "code",
   "execution_count": 22,
   "metadata": {},
   "outputs": [],
   "source": [
    "from gymnasium.wrappers import RecordVideo\n",
    "from agents import BaseDQNAgent"
   ]
  },
  {
   "cell_type": "code",
   "execution_count": 23,
   "metadata": {},
   "outputs": [],
   "source": [
    "env = gym.make(\"highway-v0\", render_mode=\"rgb_array\")"
   ]
  },
  {
   "cell_type": "code",
   "execution_count": 24,
   "metadata": {},
   "outputs": [],
   "source": [
    "def film(env: gym.Env, test_agent: BaseDQNAgent, film_length: int, video_folder: str):\n",
    "    vid_env = RecordVideo(env, video_folder=video_folder,\n",
    "              episode_trigger=lambda e: True)  # record all episodes\n",
    "\n",
    "    # Provide the video recorder to the wrapped environment\n",
    "    # so it can send it intermediate simulation frames.\n",
    "    vid_env.unwrapped.set_record_video_wrapper(vid_env)\n",
    "\n",
    "    test_agent.set_mode(is_test=True)\n",
    "\n",
    "    for i in range(film_length):\n",
    "        obs, info = vid_env.reset()\n",
    "        done = truncated = False\n",
    "\n",
    "        while not (done or truncated):\n",
    "            action = test_agent.predict(obs, determinstic=True)\n",
    "            obs, reward, done, truncated, info = vid_env.step(action)\n",
    "            vid_env.render()\n",
    "        vid_env.close()"
   ]
  },
  {
   "cell_type": "markdown",
   "metadata": {},
   "source": [
    "## Before Training"
   ]
  },
  {
   "cell_type": "code",
   "execution_count": 25,
   "metadata": {},
   "outputs": [
    {
     "name": "stdout",
     "output_type": "stream",
     "text": [
      "cuda\n"
     ]
    },
    {
     "name": "stderr",
     "output_type": "stream",
     "text": [
      "/home/sowell/projects/rl_group_assignment/venv/lib/python3.11/site-packages/gymnasium/wrappers/record_video.py:94: UserWarning: \u001b[33mWARN: Overwriting existing videos at /home/sowell/projects/rl_group_assignment/videos/dueling_dqn/untrained folder (try specifying a different `video_folder` for the `RecordVideo` wrapper if this is not desired)\u001b[0m\n",
      "  logger.warn(\n"
     ]
    },
    {
     "name": "stdout",
     "output_type": "stream",
     "text": [
      "Moviepy - Building video /home/sowell/projects/rl_group_assignment/videos/dueling_dqn/untrained/rl-video-episode-0.mp4.\n",
      "Moviepy - Writing video /home/sowell/projects/rl_group_assignment/videos/dueling_dqn/untrained/rl-video-episode-0.mp4\n",
      "\n"
     ]
    },
    {
     "name": "stderr",
     "output_type": "stream",
     "text": [
      "                                                                \r"
     ]
    },
    {
     "name": "stdout",
     "output_type": "stream",
     "text": [
      "Moviepy - Done !\n",
      "Moviepy - video ready /home/sowell/projects/rl_group_assignment/videos/dueling_dqn/untrained/rl-video-episode-0.mp4\n",
      "Moviepy - Building video /home/sowell/projects/rl_group_assignment/videos/dueling_dqn/untrained/rl-video-episode-1.mp4.\n",
      "Moviepy - Writing video /home/sowell/projects/rl_group_assignment/videos/dueling_dqn/untrained/rl-video-episode-1.mp4\n",
      "\n"
     ]
    },
    {
     "name": "stderr",
     "output_type": "stream",
     "text": [
      "                                                               \r"
     ]
    },
    {
     "name": "stdout",
     "output_type": "stream",
     "text": [
      "Moviepy - Done !\n",
      "Moviepy - video ready /home/sowell/projects/rl_group_assignment/videos/dueling_dqn/untrained/rl-video-episode-1.mp4\n",
      "Moviepy - Building video /home/sowell/projects/rl_group_assignment/videos/dueling_dqn/untrained/rl-video-episode-2.mp4.\n",
      "Moviepy - Writing video /home/sowell/projects/rl_group_assignment/videos/dueling_dqn/untrained/rl-video-episode-2.mp4\n",
      "\n"
     ]
    },
    {
     "name": "stderr",
     "output_type": "stream",
     "text": [
      "                                                                \r"
     ]
    },
    {
     "name": "stdout",
     "output_type": "stream",
     "text": [
      "Moviepy - Done !\n",
      "Moviepy - video ready /home/sowell/projects/rl_group_assignment/videos/dueling_dqn/untrained/rl-video-episode-2.mp4\n",
      "Moviepy - Building video /home/sowell/projects/rl_group_assignment/videos/dueling_dqn/untrained/rl-video-episode-3.mp4.\n",
      "Moviepy - Writing video /home/sowell/projects/rl_group_assignment/videos/dueling_dqn/untrained/rl-video-episode-3.mp4\n",
      "\n"
     ]
    },
    {
     "name": "stderr",
     "output_type": "stream",
     "text": [
      "                                                                \r"
     ]
    },
    {
     "name": "stdout",
     "output_type": "stream",
     "text": [
      "Moviepy - Done !\n",
      "Moviepy - video ready /home/sowell/projects/rl_group_assignment/videos/dueling_dqn/untrained/rl-video-episode-3.mp4\n",
      "Moviepy - Building video /home/sowell/projects/rl_group_assignment/videos/dueling_dqn/untrained/rl-video-episode-4.mp4.\n",
      "Moviepy - Writing video /home/sowell/projects/rl_group_assignment/videos/dueling_dqn/untrained/rl-video-episode-4.mp4\n",
      "\n"
     ]
    },
    {
     "name": "stderr",
     "output_type": "stream",
     "text": [
      "                                                                \r"
     ]
    },
    {
     "name": "stdout",
     "output_type": "stream",
     "text": [
      "Moviepy - Done !\n",
      "Moviepy - video ready /home/sowell/projects/rl_group_assignment/videos/dueling_dqn/untrained/rl-video-episode-4.mp4\n",
      "Moviepy - Building video /home/sowell/projects/rl_group_assignment/videos/dueling_dqn/untrained/rl-video-episode-5.mp4.\n",
      "Moviepy - Writing video /home/sowell/projects/rl_group_assignment/videos/dueling_dqn/untrained/rl-video-episode-5.mp4\n",
      "\n"
     ]
    },
    {
     "name": "stderr",
     "output_type": "stream",
     "text": [
      "                                                                "
     ]
    },
    {
     "name": "stdout",
     "output_type": "stream",
     "text": [
      "Moviepy - Done !\n",
      "Moviepy - video ready /home/sowell/projects/rl_group_assignment/videos/dueling_dqn/untrained/rl-video-episode-5.mp4\n"
     ]
    },
    {
     "name": "stderr",
     "output_type": "stream",
     "text": [
      "\r"
     ]
    },
    {
     "name": "stdout",
     "output_type": "stream",
     "text": [
      "Moviepy - Building video /home/sowell/projects/rl_group_assignment/videos/dueling_dqn/untrained/rl-video-episode-6.mp4.\n",
      "Moviepy - Writing video /home/sowell/projects/rl_group_assignment/videos/dueling_dqn/untrained/rl-video-episode-6.mp4\n",
      "\n"
     ]
    },
    {
     "name": "stderr",
     "output_type": "stream",
     "text": [
      "                                                                \r"
     ]
    },
    {
     "name": "stdout",
     "output_type": "stream",
     "text": [
      "Moviepy - Done !\n",
      "Moviepy - video ready /home/sowell/projects/rl_group_assignment/videos/dueling_dqn/untrained/rl-video-episode-6.mp4\n",
      "Moviepy - Building video /home/sowell/projects/rl_group_assignment/videos/dueling_dqn/untrained/rl-video-episode-7.mp4.\n",
      "Moviepy - Writing video /home/sowell/projects/rl_group_assignment/videos/dueling_dqn/untrained/rl-video-episode-7.mp4\n",
      "\n"
     ]
    },
    {
     "name": "stderr",
     "output_type": "stream",
     "text": [
      "                                                                "
     ]
    },
    {
     "name": "stdout",
     "output_type": "stream",
     "text": [
      "Moviepy - Done !\n",
      "Moviepy - video ready /home/sowell/projects/rl_group_assignment/videos/dueling_dqn/untrained/rl-video-episode-7.mp4\n"
     ]
    },
    {
     "name": "stderr",
     "output_type": "stream",
     "text": [
      "\r"
     ]
    },
    {
     "name": "stdout",
     "output_type": "stream",
     "text": [
      "Moviepy - Building video /home/sowell/projects/rl_group_assignment/videos/dueling_dqn/untrained/rl-video-episode-8.mp4.\n",
      "Moviepy - Writing video /home/sowell/projects/rl_group_assignment/videos/dueling_dqn/untrained/rl-video-episode-8.mp4\n",
      "\n"
     ]
    },
    {
     "name": "stderr",
     "output_type": "stream",
     "text": [
      "                                                                \r"
     ]
    },
    {
     "name": "stdout",
     "output_type": "stream",
     "text": [
      "Moviepy - Done !\n",
      "Moviepy - video ready /home/sowell/projects/rl_group_assignment/videos/dueling_dqn/untrained/rl-video-episode-8.mp4\n",
      "Moviepy - Building video /home/sowell/projects/rl_group_assignment/videos/dueling_dqn/untrained/rl-video-episode-9.mp4.\n",
      "Moviepy - Writing video /home/sowell/projects/rl_group_assignment/videos/dueling_dqn/untrained/rl-video-episode-9.mp4\n",
      "\n"
     ]
    },
    {
     "name": "stderr",
     "output_type": "stream",
     "text": [
      "                                                   "
     ]
    },
    {
     "name": "stdout",
     "output_type": "stream",
     "text": [
      "Moviepy - Done !\n",
      "Moviepy - video ready /home/sowell/projects/rl_group_assignment/videos/dueling_dqn/untrained/rl-video-episode-9.mp4\n"
     ]
    },
    {
     "name": "stderr",
     "output_type": "stream",
     "text": [
      "\r"
     ]
    }
   ],
   "source": [
    "untrained_agent = DuelingDQNAgent(\n",
    "    env,\n",
    "    memory_size,\n",
    "    batch_size,\n",
    "    target_update,\n",
    "    epsilon_decay,\n",
    "    seed,\n",
    "    gamma = gamma\n",
    ")\n",
    "\n",
    "film(env, untrained_agent, 10, \"../videos/dueling_dqn/untrained/\")"
   ]
  },
  {
   "cell_type": "markdown",
   "metadata": {},
   "source": [
    "## After training"
   ]
  },
  {
   "cell_type": "code",
   "execution_count": 26,
   "metadata": {},
   "outputs": [
    {
     "name": "stderr",
     "output_type": "stream",
     "text": [
      "/home/sowell/projects/rl_group_assignment/venv/lib/python3.11/site-packages/gymnasium/wrappers/record_video.py:94: UserWarning: \u001b[33mWARN: Overwriting existing videos at /home/sowell/projects/rl_group_assignment/videos/dueling_dqn/trained folder (try specifying a different `video_folder` for the `RecordVideo` wrapper if this is not desired)\u001b[0m\n",
      "  logger.warn(\n"
     ]
    },
    {
     "name": "stdout",
     "output_type": "stream",
     "text": [
      "Moviepy - Building video /home/sowell/projects/rl_group_assignment/videos/dueling_dqn/trained/rl-video-episode-0.mp4.\n",
      "Moviepy - Writing video /home/sowell/projects/rl_group_assignment/videos/dueling_dqn/trained/rl-video-episode-0.mp4\n",
      "\n"
     ]
    },
    {
     "name": "stderr",
     "output_type": "stream",
     "text": [
      "                                                   "
     ]
    },
    {
     "name": "stdout",
     "output_type": "stream",
     "text": [
      "Moviepy - Done !\n",
      "Moviepy - video ready /home/sowell/projects/rl_group_assignment/videos/dueling_dqn/trained/rl-video-episode-0.mp4\n"
     ]
    },
    {
     "name": "stderr",
     "output_type": "stream",
     "text": [
      "\r"
     ]
    },
    {
     "name": "stdout",
     "output_type": "stream",
     "text": [
      "Moviepy - Building video /home/sowell/projects/rl_group_assignment/videos/dueling_dqn/trained/rl-video-episode-1.mp4.\n",
      "Moviepy - Writing video /home/sowell/projects/rl_group_assignment/videos/dueling_dqn/trained/rl-video-episode-1.mp4\n",
      "\n"
     ]
    },
    {
     "name": "stderr",
     "output_type": "stream",
     "text": [
      "                                                                \r"
     ]
    },
    {
     "name": "stdout",
     "output_type": "stream",
     "text": [
      "Moviepy - Done !\n",
      "Moviepy - video ready /home/sowell/projects/rl_group_assignment/videos/dueling_dqn/trained/rl-video-episode-1.mp4\n",
      "Moviepy - Building video /home/sowell/projects/rl_group_assignment/videos/dueling_dqn/trained/rl-video-episode-2.mp4.\n",
      "Moviepy - Writing video /home/sowell/projects/rl_group_assignment/videos/dueling_dqn/trained/rl-video-episode-2.mp4\n",
      "\n"
     ]
    },
    {
     "name": "stderr",
     "output_type": "stream",
     "text": [
      "                                                   "
     ]
    },
    {
     "name": "stdout",
     "output_type": "stream",
     "text": [
      "Moviepy - Done !\n",
      "Moviepy - video ready /home/sowell/projects/rl_group_assignment/videos/dueling_dqn/trained/rl-video-episode-2.mp4\n"
     ]
    },
    {
     "name": "stderr",
     "output_type": "stream",
     "text": [
      "\r"
     ]
    },
    {
     "name": "stdout",
     "output_type": "stream",
     "text": [
      "Moviepy - Building video /home/sowell/projects/rl_group_assignment/videos/dueling_dqn/trained/rl-video-episode-3.mp4.\n",
      "Moviepy - Writing video /home/sowell/projects/rl_group_assignment/videos/dueling_dqn/trained/rl-video-episode-3.mp4\n",
      "\n"
     ]
    },
    {
     "name": "stderr",
     "output_type": "stream",
     "text": [
      "                                                                \r"
     ]
    },
    {
     "name": "stdout",
     "output_type": "stream",
     "text": [
      "Moviepy - Done !\n",
      "Moviepy - video ready /home/sowell/projects/rl_group_assignment/videos/dueling_dqn/trained/rl-video-episode-3.mp4\n",
      "Moviepy - Building video /home/sowell/projects/rl_group_assignment/videos/dueling_dqn/trained/rl-video-episode-4.mp4.\n",
      "Moviepy - Writing video /home/sowell/projects/rl_group_assignment/videos/dueling_dqn/trained/rl-video-episode-4.mp4\n",
      "\n"
     ]
    },
    {
     "name": "stderr",
     "output_type": "stream",
     "text": [
      "                                                                \r"
     ]
    },
    {
     "name": "stdout",
     "output_type": "stream",
     "text": [
      "Moviepy - Done !\n",
      "Moviepy - video ready /home/sowell/projects/rl_group_assignment/videos/dueling_dqn/trained/rl-video-episode-4.mp4\n",
      "Moviepy - Building video /home/sowell/projects/rl_group_assignment/videos/dueling_dqn/trained/rl-video-episode-5.mp4.\n",
      "Moviepy - Writing video /home/sowell/projects/rl_group_assignment/videos/dueling_dqn/trained/rl-video-episode-5.mp4\n",
      "\n"
     ]
    },
    {
     "name": "stderr",
     "output_type": "stream",
     "text": [
      "                                                                \r"
     ]
    },
    {
     "name": "stdout",
     "output_type": "stream",
     "text": [
      "Moviepy - Done !\n",
      "Moviepy - video ready /home/sowell/projects/rl_group_assignment/videos/dueling_dqn/trained/rl-video-episode-5.mp4\n",
      "Moviepy - Building video /home/sowell/projects/rl_group_assignment/videos/dueling_dqn/trained/rl-video-episode-6.mp4.\n",
      "Moviepy - Writing video /home/sowell/projects/rl_group_assignment/videos/dueling_dqn/trained/rl-video-episode-6.mp4\n",
      "\n"
     ]
    },
    {
     "name": "stderr",
     "output_type": "stream",
     "text": [
      "                                                                \r"
     ]
    },
    {
     "name": "stdout",
     "output_type": "stream",
     "text": [
      "Moviepy - Done !\n",
      "Moviepy - video ready /home/sowell/projects/rl_group_assignment/videos/dueling_dqn/trained/rl-video-episode-6.mp4\n",
      "Moviepy - Building video /home/sowell/projects/rl_group_assignment/videos/dueling_dqn/trained/rl-video-episode-7.mp4.\n",
      "Moviepy - Writing video /home/sowell/projects/rl_group_assignment/videos/dueling_dqn/trained/rl-video-episode-7.mp4\n",
      "\n"
     ]
    },
    {
     "name": "stderr",
     "output_type": "stream",
     "text": [
      "                                                                \r"
     ]
    },
    {
     "name": "stdout",
     "output_type": "stream",
     "text": [
      "Moviepy - Done !\n",
      "Moviepy - video ready /home/sowell/projects/rl_group_assignment/videos/dueling_dqn/trained/rl-video-episode-7.mp4\n",
      "Moviepy - Building video /home/sowell/projects/rl_group_assignment/videos/dueling_dqn/trained/rl-video-episode-8.mp4.\n",
      "Moviepy - Writing video /home/sowell/projects/rl_group_assignment/videos/dueling_dqn/trained/rl-video-episode-8.mp4\n",
      "\n"
     ]
    },
    {
     "name": "stderr",
     "output_type": "stream",
     "text": [
      "                                                                \r"
     ]
    },
    {
     "name": "stdout",
     "output_type": "stream",
     "text": [
      "Moviepy - Done !\n",
      "Moviepy - video ready /home/sowell/projects/rl_group_assignment/videos/dueling_dqn/trained/rl-video-episode-8.mp4\n",
      "Moviepy - Building video /home/sowell/projects/rl_group_assignment/videos/dueling_dqn/trained/rl-video-episode-9.mp4.\n",
      "Moviepy - Writing video /home/sowell/projects/rl_group_assignment/videos/dueling_dqn/trained/rl-video-episode-9.mp4\n",
      "\n"
     ]
    },
    {
     "name": "stderr",
     "output_type": "stream",
     "text": [
      "                                                                "
     ]
    },
    {
     "name": "stdout",
     "output_type": "stream",
     "text": [
      "Moviepy - Done !\n",
      "Moviepy - video ready /home/sowell/projects/rl_group_assignment/videos/dueling_dqn/trained/rl-video-episode-9.mp4\n"
     ]
    },
    {
     "name": "stderr",
     "output_type": "stream",
     "text": [
      "\r"
     ]
    }
   ],
   "source": [
    "film(env, agent, 10, \"../videos/dueling_dqn/trained/\")"
   ]
  },
  {
   "cell_type": "code",
   "execution_count": null,
   "metadata": {},
   "outputs": [],
   "source": []
  }
 ],
 "metadata": {
  "kernelspec": {
   "display_name": "venv",
   "language": "python",
   "name": "python3"
  },
  "language_info": {
   "codemirror_mode": {
    "name": "ipython",
    "version": 3
   },
   "file_extension": ".py",
   "mimetype": "text/x-python",
   "name": "python",
   "nbconvert_exporter": "python",
   "pygments_lexer": "ipython3",
   "version": "3.11.5"
  }
 },
 "nbformat": 4,
 "nbformat_minor": 2
}
