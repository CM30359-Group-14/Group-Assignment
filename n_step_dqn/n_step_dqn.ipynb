{
 "cells": [
  {
   "cell_type": "markdown",
   "metadata": {},
   "source": [
    "# N-step Learning from Scratch\n",
    "\n",
    "Mutli-step targets with suitable choices of $n$ often lead to faster learning (Sutton and Barto, 1998)"
   ]
  },
  {
   "cell_type": "markdown",
   "metadata": {},
   "source": [
    "# Imports & Constants"
   ]
  },
  {
   "cell_type": "code",
   "execution_count": 1,
   "metadata": {},
   "outputs": [],
   "source": [
    "import sys\n",
    "import os\n",
    "\n",
    "# Assuming the notebook is located inside `subfolder` and\n",
    "# we want to import a module in `parent_folder`\n",
    "\n",
    "# Get the absolute path to the 'subfolder'.\n",
    "notebook_dir = os.path.dirname(os.path.abspath(\"__file__\"))\n",
    "\n",
    "# Calculate the path to the 'parent_folder' by going one level up.\n",
    "parent_dir = os.path.dirname(notebook_dir)\n",
    "\n",
    "# Add the 'parent_folder' to sys.path if it is not already there.\n",
    "if parent_dir not in sys.path:\n",
    "    sys.path.append(parent_dir)"
   ]
  },
  {
   "cell_type": "code",
   "execution_count": 2,
   "metadata": {},
   "outputs": [],
   "source": [
    "import os\n",
    "import math\n",
    "import time\n",
    "\n",
    "import gymnasium as gym\n",
    "import matplotlib.pyplot as plt\n",
    "import numpy as np\n",
    "import torch\n",
    "import torch.nn as nn\n",
    "import torch.nn.functional as F\n",
    "import torch.optim as optim\n",
    "import pandas as pd\n",
    "\n",
    "from numpy import float64, ndarray\n",
    "from IPython.display import clear_output\n",
    "from collections import deque\n",
    "from typing import Dict, List, Tuple, Deque\n",
    "\n",
    "from agents import MlpDQNAgent\n",
    "from buffers import ReplayBuffer\n",
    "from networks import Network"
   ]
  },
  {
   "cell_type": "markdown",
   "metadata": {},
   "source": [
    "# N-step Replay Buffer"
   ]
  },
  {
   "cell_type": "code",
   "execution_count": 3,
   "metadata": {},
   "outputs": [],
   "source": [
    "class NStepReplayBuffer(ReplayBuffer):\n",
    "    \"\"\"\n",
    "    Class representing a simple experience replay buffer for n-step learning.\n",
    "    \"\"\"\n",
    "\n",
    "    def __init__(\n",
    "        self,\n",
    "        obs_shape: Tuple, \n",
    "        size: int, \n",
    "        batch_size: int = 32,\n",
    "        n_step: int = 3,\n",
    "        gamma: float = 0.99,\n",
    "    ):\n",
    "        super().__init__(obs_shape, size, batch_size)\n",
    "\n",
    "        # The n-step buffer stores at most `n_step` number of transitions.\n",
    "        self.n_step_buffer = deque(maxlen=n_step)\n",
    "        self.n_step = n_step\n",
    "        self.gamma = gamma\n",
    "\n",
    "    def store(self, obs: np.ndarray, act: np.ndarray, rew: np.ndarray, next_obs: np.ndarray, done: bool):\n",
    "        transition = (obs, act, rew, next_obs, done)\n",
    "        self.n_step_buffer.append(transition)\n",
    "\n",
    "        # If there aren't enough transitions for n-step learning yet.\n",
    "        if len(self.n_step_buffer) < self.n_step:\n",
    "            return ()\n",
    "        \n",
    "        # Prepare an n-step transition.\n",
    "        rew, next_obs, done = self._prepare_n_step_info()\n",
    "        obs, act = self.n_step_buffer[0][:2]\n",
    "\n",
    "        # Store the transition.\n",
    "        super().store(obs, act, rew, next_obs, done)\n",
    "\n",
    "        return self.n_step_buffer[0]\n",
    "    \n",
    "    def sample_batch_from_idxs(self, indices: np.ndarray) -> Dict[str, np.ndarray]:\n",
    "        return dict(\n",
    "            obs=self.obs_buf[indices],\n",
    "            next_obs=self.next_obs_buf[indices],\n",
    "            acts=self.acts_buf[indices],\n",
    "            rews=self.rews_buf[indices],\n",
    "            done=self.done_buf[indices],\n",
    "        )\n",
    "\n",
    "    def _prepare_n_step_info(self) -> Tuple[np.float32, np.ndarray, bool]:\n",
    "        \"\"\"\n",
    "        Returns the n_step reward, subsequent observation and whether or not\n",
    "        the episode has completed.\n",
    "        \"\"\"\n",
    "        rew, next_obs, done = self.n_step_buffer[-1][-3:]\n",
    "\n",
    "        # Iterating backwards through the n-step buffer.\n",
    "        for transition in reversed(list(self.n_step_buffer)[:-1]):\n",
    "            r, n_o, d = transition[-3:]\n",
    "\n",
    "            rew = r + self.gamma * rew * (1 - d)\n",
    "            next_obs, done = (n_o, d) if d else (next_obs, done)\n",
    "\n",
    "        return rew, next_obs, done"
   ]
  },
  {
   "cell_type": "markdown",
   "metadata": {},
   "source": [
    "# N-step Learning DQN Agent"
   ]
  },
  {
   "cell_type": "code",
   "execution_count": 4,
   "metadata": {},
   "outputs": [],
   "source": [
    "class NStepDQNAgent(MlpDQNAgent):\n",
    "\n",
    "    def __init__(\n",
    "        self,        \n",
    "        env: gym.Env,\n",
    "        memory_size: int,\n",
    "        batch_size: int,\n",
    "        target_update: int,\n",
    "        epsilon_decay: float = 1e-4,\n",
    "        seed: int = 42,\n",
    "        max_epsilon: float = 1.0,\n",
    "        min_epsilon: float = 0.1,\n",
    "        gamma: float = 0.99,\n",
    "        # N-step Learning\n",
    "        n_step: int = 3,\n",
    "    ):\n",
    "        super().__init__(\n",
    "            env, \n",
    "            memory_size, \n",
    "            batch_size, \n",
    "            target_update, \n",
    "            epsilon_decay, \n",
    "            seed, \n",
    "            max_epsilon, \n",
    "            min_epsilon, \n",
    "            gamma\n",
    "        )\n",
    "\n",
    "        # Memory for 1-step learning.\n",
    "        self.memory = NStepReplayBuffer(\n",
    "            self.obs_shape, memory_size, batch_size, n_step=1, gamma=gamma\n",
    "        )\n",
    "\n",
    "        # Memory for N-step learning.\n",
    "        self.use_n_step = n_step > 1\n",
    "        if self.use_n_step:\n",
    "            self.n_step = n_step\n",
    "            self.memory_n = NStepReplayBuffer(\n",
    "                self.obs_shape, memory_size, batch_size, n_step=n_step, gamma=gamma\n",
    "            )\n",
    "\n",
    "    def step(self, action: ndarray) -> Tuple[ndarray, float64, bool]:\n",
    "        next_state, reward, terminated, truncated, _ = self.env.step(action)\n",
    "        done = terminated or truncated\n",
    "        \n",
    "        if not self.is_test:\n",
    "            self.transition += [reward, next_state, done]\n",
    "            \n",
    "            # N-step transition\n",
    "            if self.use_n_step:\n",
    "                one_step_transition = self.memory_n.store(*self.transition)\n",
    "            # 1-step transition\n",
    "            else:\n",
    "                one_step_transition = self.transition\n",
    "\n",
    "            # Add a single step transition\n",
    "            if one_step_transition:\n",
    "                self.memory.store(*one_step_transition)\n",
    "    \n",
    "        return next_state, reward, done\n",
    "    \n",
    "    def update_model(self) -> torch.Tensor:\n",
    "        samples = self.memory.sample_batch()\n",
    "        indices = samples[\"indices\"]\n",
    "        loss = self._compute_dqn_loss(samples, self.gamma)\n",
    "\n",
    "        # N-step Learning loss. We combine 1-step and n-step loss so as to\n",
    "        # prevent high variance.\n",
    "        if self.use_n_step:\n",
    "            samples = self.memory_n.sample_batch_from_idxs(indices)\n",
    "            gamma = self.gamma ** self.n_step\n",
    "            n_loss = self._compute_dqn_loss(samples, gamma)\n",
    "            loss += n_loss\n",
    "\n",
    "        self.optimiser.zero_grad()\n",
    "        loss.backward()\n",
    "        self.optimiser.step()\n",
    "\n",
    "        return loss.item()"
   ]
  },
  {
   "cell_type": "markdown",
   "metadata": {},
   "source": [
    "# Train an agent"
   ]
  },
  {
   "cell_type": "code",
   "execution_count": 5,
   "metadata": {},
   "outputs": [],
   "source": [
    "config = {\n",
    "    'lanes_count': 4,\n",
    "    'duration': 50,\n",
    "}"
   ]
  },
  {
   "cell_type": "code",
   "execution_count": 6,
   "metadata": {},
   "outputs": [],
   "source": [
    "env = gym.make(\"highway-fast-v0\", render_mode=\"rgb_array\")\n",
    "env.unwrapped.configure(config)\n",
    "obs, info = env.reset()"
   ]
  },
  {
   "cell_type": "code",
   "execution_count": 7,
   "metadata": {},
   "outputs": [
    {
     "name": "stdout",
     "output_type": "stream",
     "text": [
      "cuda\n"
     ]
    }
   ],
   "source": [
    "seed = 777\n",
    "num_frames = 200_000\n",
    "memory_size = 10_000\n",
    "gamma = 0.85\n",
    "batch_size = 64\n",
    "target_update = 50\n",
    "epsilon_decay = 1 / (num_frames // 10)\n",
    "\n",
    "agent = NStepDQNAgent(\n",
    "    env,\n",
    "    memory_size,\n",
    "    batch_size,\n",
    "    target_update,\n",
    "    epsilon_decay,\n",
    "    seed,\n",
    "    gamma=gamma,\n",
    ")"
   ]
  },
  {
   "cell_type": "code",
   "execution_count": 8,
   "metadata": {},
   "outputs": [
    {
     "data": {
      "image/png": "[encoded data removed]",
      "text/plain": [
       "<Figure size 2000x500 with 3 Axes>"
      ]
     },
     "metadata": {},
     "output_type": "display_data"
    }
   ],
   "source": [
    "scores, losses, epsilons = agent.train(num_frames)"
   ]
  },
  {
   "cell_type": "code",
   "execution_count": 9,
   "metadata": {},
   "outputs": [],
   "source": [
    "# pd.DataFrame({\"N-step DQN\": scores}).to_csv(\"../results/n_step_dqn.csv\")"
   ]
  },
  {
   "cell_type": "markdown",
   "metadata": {},
   "source": [
    "# Test the agent"
   ]
  },
  {
   "cell_type": "code",
   "execution_count": 10,
   "metadata": {},
   "outputs": [
    {
     "data": {
      "image/png": "[encoded data removed]",
      "text/plain": [
       "<Figure size 640x480 with 1 Axes>"
      ]
     },
     "metadata": {},
     "output_type": "display_data"
    }
   ],
   "source": [
    "ep_lens, ep_rews = agent.test(1, time_interval=0.01)"
   ]
  },
  {
   "cell_type": "code",
   "execution_count": 11,
   "metadata": {},
   "outputs": [
    {
     "name": "stdout",
     "output_type": "stream",
     "text": [
      "Mean Episode Length: 50.0\n",
      "Mean Score Per Episode: 47.99491930824533\n"
     ]
    }
   ],
   "source": [
    "print(\"Mean Episode Length:\", np.mean(ep_lens))\n",
    "print(\"Mean Score Per Episode:\", np.mean(ep_rews))"
   ]
  },
  {
   "cell_type": "markdown",
   "metadata": {},
   "source": [
    "# Film the agent"
   ]
  },
  {
   "cell_type": "code",
   "execution_count": 12,
   "metadata": {},
   "outputs": [],
   "source": [
    "from gymnasium.wrappers import RecordVideo\n",
    "from agents import BaseDQNAgent"
   ]
  },
  {
   "cell_type": "code",
   "execution_count": 13,
   "metadata": {},
   "outputs": [],
   "source": [
    "env = gym.make(\"highway-v0\", render_mode=\"rgb_array\")"
   ]
  },
  {
   "cell_type": "code",
   "execution_count": 14,
   "metadata": {},
   "outputs": [],
   "source": [
    "def film(env: gym.Env, test_agent: BaseDQNAgent, film_length: int, video_folder: str):\n",
    "    vid_env = RecordVideo(env, video_folder=video_folder,\n",
    "              episode_trigger=lambda e: True)  # record all episodes\n",
    "\n",
    "    # Provide the video recorder to the wrapped environment\n",
    "    # so it can send it intermediate simulation frames.\n",
    "    vid_env.unwrapped.set_record_video_wrapper(vid_env)\n",
    "\n",
    "    test_agent.set_mode(is_test=True)\n",
    "\n",
    "    for i in range(film_length):\n",
    "        obs, info = vid_env.reset()\n",
    "        done = truncated = False\n",
    "\n",
    "        while not (done or truncated):\n",
    "            action = test_agent.predict(obs, determinstic=True)\n",
    "            obs, reward, done, truncated, info = vid_env.step(action)\n",
    "            vid_env.render()\n",
    "        vid_env.close()"
   ]
  },
  {
   "cell_type": "markdown",
   "metadata": {},
   "source": [
    "## Before Training"
   ]
  },
  {
   "cell_type": "code",
   "execution_count": 16,
   "metadata": {},
   "outputs": [
    {
     "name": "stdout",
     "output_type": "stream",
     "text": [
      "cuda\n",
      "Moviepy - Building video /home/sowell/projects/rl_group_assignment/videos/n_step_dqn/untrained/rl-video-episode-0.mp4.\n",
      "Moviepy - Writing video /home/sowell/projects/rl_group_assignment/videos/n_step_dqn/untrained/rl-video-episode-0.mp4\n",
      "\n"
     ]
    },
    {
     "name": "stderr",
     "output_type": "stream",
     "text": [
      "                                                                \r"
     ]
    },
    {
     "name": "stdout",
     "output_type": "stream",
     "text": [
      "Moviepy - Done !\n",
      "Moviepy - video ready /home/sowell/projects/rl_group_assignment/videos/n_step_dqn/untrained/rl-video-episode-0.mp4\n",
      "Moviepy - Building video /home/sowell/projects/rl_group_assignment/videos/n_step_dqn/untrained/rl-video-episode-1.mp4.\n",
      "Moviepy - Writing video /home/sowell/projects/rl_group_assignment/videos/n_step_dqn/untrained/rl-video-episode-1.mp4\n",
      "\n"
     ]
    },
    {
     "name": "stderr",
     "output_type": "stream",
     "text": [
      "                                                                \r"
     ]
    },
    {
     "name": "stdout",
     "output_type": "stream",
     "text": [
      "Moviepy - Done !\n",
      "Moviepy - video ready /home/sowell/projects/rl_group_assignment/videos/n_step_dqn/untrained/rl-video-episode-1.mp4\n",
      "Moviepy - Building video /home/sowell/projects/rl_group_assignment/videos/n_step_dqn/untrained/rl-video-episode-2.mp4.\n",
      "Moviepy - Writing video /home/sowell/projects/rl_group_assignment/videos/n_step_dqn/untrained/rl-video-episode-2.mp4\n",
      "\n"
     ]
    },
    {
     "name": "stderr",
     "output_type": "stream",
     "text": [
      "                                                                \r"
     ]
    },
    {
     "name": "stdout",
     "output_type": "stream",
     "text": [
      "Moviepy - Done !\n",
      "Moviepy - video ready /home/sowell/projects/rl_group_assignment/videos/n_step_dqn/untrained/rl-video-episode-2.mp4\n",
      "Moviepy - Building video /home/sowell/projects/rl_group_assignment/videos/n_step_dqn/untrained/rl-video-episode-3.mp4.\n",
      "Moviepy - Writing video /home/sowell/projects/rl_group_assignment/videos/n_step_dqn/untrained/rl-video-episode-3.mp4\n",
      "\n"
     ]
    },
    {
     "name": "stderr",
     "output_type": "stream",
     "text": [
      "                                                                \r"
     ]
    },
    {
     "name": "stdout",
     "output_type": "stream",
     "text": [
      "Moviepy - Done !\n",
      "Moviepy - video ready /home/sowell/projects/rl_group_assignment/videos/n_step_dqn/untrained/rl-video-episode-3.mp4\n",
      "Moviepy - Building video /home/sowell/projects/rl_group_assignment/videos/n_step_dqn/untrained/rl-video-episode-4.mp4.\n",
      "Moviepy - Writing video /home/sowell/projects/rl_group_assignment/videos/n_step_dqn/untrained/rl-video-episode-4.mp4\n",
      "\n"
     ]
    },
    {
     "name": "stderr",
     "output_type": "stream",
     "text": [
      "                                                                \r"
     ]
    },
    {
     "name": "stdout",
     "output_type": "stream",
     "text": [
      "Moviepy - Done !\n",
      "Moviepy - video ready /home/sowell/projects/rl_group_assignment/videos/n_step_dqn/untrained/rl-video-episode-4.mp4\n",
      "Moviepy - Building video /home/sowell/projects/rl_group_assignment/videos/n_step_dqn/untrained/rl-video-episode-5.mp4.\n",
      "Moviepy - Writing video /home/sowell/projects/rl_group_assignment/videos/n_step_dqn/untrained/rl-video-episode-5.mp4\n",
      "\n"
     ]
    },
    {
     "name": "stderr",
     "output_type": "stream",
     "text": [
      "                                                                \r"
     ]
    },
    {
     "name": "stdout",
     "output_type": "stream",
     "text": [
      "Moviepy - Done !\n",
      "Moviepy - video ready /home/sowell/projects/rl_group_assignment/videos/n_step_dqn/untrained/rl-video-episode-5.mp4\n",
      "Moviepy - Building video /home/sowell/projects/rl_group_assignment/videos/n_step_dqn/untrained/rl-video-episode-6.mp4.\n",
      "Moviepy - Writing video /home/sowell/projects/rl_group_assignment/videos/n_step_dqn/untrained/rl-video-episode-6.mp4\n",
      "\n"
     ]
    },
    {
     "name": "stderr",
     "output_type": "stream",
     "text": [
      "                                                                \r"
     ]
    },
    {
     "name": "stdout",
     "output_type": "stream",
     "text": [
      "Moviepy - Done !\n",
      "Moviepy - video ready /home/sowell/projects/rl_group_assignment/videos/n_step_dqn/untrained/rl-video-episode-6.mp4\n",
      "Moviepy - Building video /home/sowell/projects/rl_group_assignment/videos/n_step_dqn/untrained/rl-video-episode-7.mp4.\n",
      "Moviepy - Writing video /home/sowell/projects/rl_group_assignment/videos/n_step_dqn/untrained/rl-video-episode-7.mp4\n",
      "\n"
     ]
    },
    {
     "name": "stderr",
     "output_type": "stream",
     "text": [
      "                                                                \r"
     ]
    },
    {
     "name": "stdout",
     "output_type": "stream",
     "text": [
      "Moviepy - Done !\n",
      "Moviepy - video ready /home/sowell/projects/rl_group_assignment/videos/n_step_dqn/untrained/rl-video-episode-7.mp4\n",
      "Moviepy - Building video /home/sowell/projects/rl_group_assignment/videos/n_step_dqn/untrained/rl-video-episode-8.mp4.\n",
      "Moviepy - Writing video /home/sowell/projects/rl_group_assignment/videos/n_step_dqn/untrained/rl-video-episode-8.mp4\n",
      "\n"
     ]
    },
    {
     "name": "stderr",
     "output_type": "stream",
     "text": [
      "                                                                \r"
     ]
    },
    {
     "name": "stdout",
     "output_type": "stream",
     "text": [
      "Moviepy - Done !\n",
      "Moviepy - video ready /home/sowell/projects/rl_group_assignment/videos/n_step_dqn/untrained/rl-video-episode-8.mp4\n",
      "Moviepy - Building video /home/sowell/projects/rl_group_assignment/videos/n_step_dqn/untrained/rl-video-episode-9.mp4.\n",
      "Moviepy - Writing video /home/sowell/projects/rl_group_assignment/videos/n_step_dqn/untrained/rl-video-episode-9.mp4\n",
      "\n"
     ]
    },
    {
     "name": "stderr",
     "output_type": "stream",
     "text": [
      "                                                                "
     ]
    },
    {
     "name": "stdout",
     "output_type": "stream",
     "text": [
      "Moviepy - Done !\n",
      "Moviepy - video ready /home/sowell/projects/rl_group_assignment/videos/n_step_dqn/untrained/rl-video-episode-9.mp4\n"
     ]
    },
    {
     "name": "stderr",
     "output_type": "stream",
     "text": [
      "\r"
     ]
    }
   ],
   "source": [
    "untrained_agent = NStepDQNAgent(\n",
    "    env,\n",
    "    memory_size,\n",
    "    batch_size,\n",
    "    target_update,\n",
    "    epsilon_decay,\n",
    "    seed,\n",
    "    gamma=gamma,\n",
    ")\n",
    "\n",
    "film(env, untrained_agent, 10, \"../videos/n_step_dqn/untrained/\")"
   ]
  },
  {
   "cell_type": "markdown",
   "metadata": {},
   "source": [
    "## After training"
   ]
  },
  {
   "cell_type": "code",
   "execution_count": 17,
   "metadata": {},
   "outputs": [
    {
     "name": "stderr",
     "output_type": "stream",
     "text": [
      "/home/sowell/projects/rl_group_assignment/venv/lib/python3.11/site-packages/gymnasium/wrappers/record_video.py:94: UserWarning: \u001b[33mWARN: Overwriting existing videos at /home/sowell/projects/rl_group_assignment/videos/d_dqn/trained folder (try specifying a different `video_folder` for the `RecordVideo` wrapper if this is not desired)\u001b[0m\n",
      "  logger.warn(\n"
     ]
    },
    {
     "name": "stdout",
     "output_type": "stream",
     "text": [
      "Moviepy - Building video /home/sowell/projects/rl_group_assignment/videos/d_dqn/trained/rl-video-episode-0.mp4.\n",
      "Moviepy - Writing video /home/sowell/projects/rl_group_assignment/videos/d_dqn/trained/rl-video-episode-0.mp4\n",
      "\n"
     ]
    },
    {
     "name": "stderr",
     "output_type": "stream",
     "text": [
      "                                                                \r"
     ]
    },
    {
     "name": "stdout",
     "output_type": "stream",
     "text": [
      "Moviepy - Done !\n",
      "Moviepy - video ready /home/sowell/projects/rl_group_assignment/videos/d_dqn/trained/rl-video-episode-0.mp4\n",
      "Moviepy - Building video /home/sowell/projects/rl_group_assignment/videos/d_dqn/trained/rl-video-episode-1.mp4.\n",
      "Moviepy - Writing video /home/sowell/projects/rl_group_assignment/videos/d_dqn/trained/rl-video-episode-1.mp4\n",
      "\n"
     ]
    },
    {
     "name": "stderr",
     "output_type": "stream",
     "text": [
      "                                                                \r"
     ]
    },
    {
     "name": "stdout",
     "output_type": "stream",
     "text": [
      "Moviepy - Done !\n",
      "Moviepy - video ready /home/sowell/projects/rl_group_assignment/videos/d_dqn/trained/rl-video-episode-1.mp4\n",
      "Moviepy - Building video /home/sowell/projects/rl_group_assignment/videos/d_dqn/trained/rl-video-episode-2.mp4.\n",
      "Moviepy - Writing video /home/sowell/projects/rl_group_assignment/videos/d_dqn/trained/rl-video-episode-2.mp4\n",
      "\n"
     ]
    },
    {
     "name": "stderr",
     "output_type": "stream",
     "text": [
      "                                                                \r"
     ]
    },
    {
     "name": "stdout",
     "output_type": "stream",
     "text": [
      "Moviepy - Done !\n",
      "Moviepy - video ready /home/sowell/projects/rl_group_assignment/videos/d_dqn/trained/rl-video-episode-2.mp4\n",
      "Moviepy - Building video /home/sowell/projects/rl_group_assignment/videos/d_dqn/trained/rl-video-episode-3.mp4.\n",
      "Moviepy - Writing video /home/sowell/projects/rl_group_assignment/videos/d_dqn/trained/rl-video-episode-3.mp4\n",
      "\n"
     ]
    },
    {
     "name": "stderr",
     "output_type": "stream",
     "text": [
      "                                                                \r"
     ]
    },
    {
     "name": "stdout",
     "output_type": "stream",
     "text": [
      "Moviepy - Done !\n",
      "Moviepy - video ready /home/sowell/projects/rl_group_assignment/videos/d_dqn/trained/rl-video-episode-3.mp4\n",
      "Moviepy - Building video /home/sowell/projects/rl_group_assignment/videos/d_dqn/trained/rl-video-episode-4.mp4.\n",
      "Moviepy - Writing video /home/sowell/projects/rl_group_assignment/videos/d_dqn/trained/rl-video-episode-4.mp4\n",
      "\n"
     ]
    },
    {
     "name": "stderr",
     "output_type": "stream",
     "text": [
      "                                                   "
     ]
    },
    {
     "name": "stdout",
     "output_type": "stream",
     "text": [
      "Moviepy - Done !\n",
      "Moviepy - video ready /home/sowell/projects/rl_group_assignment/videos/d_dqn/trained/rl-video-episode-4.mp4\n"
     ]
    },
    {
     "name": "stderr",
     "output_type": "stream",
     "text": [
      "\r"
     ]
    },
    {
     "name": "stdout",
     "output_type": "stream",
     "text": [
      "Moviepy - Building video /home/sowell/projects/rl_group_assignment/videos/d_dqn/trained/rl-video-episode-5.mp4.\n",
      "Moviepy - Writing video /home/sowell/projects/rl_group_assignment/videos/d_dqn/trained/rl-video-episode-5.mp4\n",
      "\n"
     ]
    },
    {
     "name": "stderr",
     "output_type": "stream",
     "text": [
      "                                                                \r"
     ]
    },
    {
     "name": "stdout",
     "output_type": "stream",
     "text": [
      "Moviepy - Done !\n",
      "Moviepy - video ready /home/sowell/projects/rl_group_assignment/videos/d_dqn/trained/rl-video-episode-5.mp4\n",
      "Moviepy - Building video /home/sowell/projects/rl_group_assignment/videos/d_dqn/trained/rl-video-episode-6.mp4.\n",
      "Moviepy - Writing video /home/sowell/projects/rl_group_assignment/videos/d_dqn/trained/rl-video-episode-6.mp4\n",
      "\n"
     ]
    },
    {
     "name": "stderr",
     "output_type": "stream",
     "text": [
      "                                                                \r"
     ]
    },
    {
     "name": "stdout",
     "output_type": "stream",
     "text": [
      "Moviepy - Done !\n",
      "Moviepy - video ready /home/sowell/projects/rl_group_assignment/videos/d_dqn/trained/rl-video-episode-6.mp4\n",
      "Moviepy - Building video /home/sowell/projects/rl_group_assignment/videos/d_dqn/trained/rl-video-episode-7.mp4.\n",
      "Moviepy - Writing video /home/sowell/projects/rl_group_assignment/videos/d_dqn/trained/rl-video-episode-7.mp4\n",
      "\n"
     ]
    },
    {
     "name": "stderr",
     "output_type": "stream",
     "text": [
      "                                                                \r"
     ]
    },
    {
     "name": "stdout",
     "output_type": "stream",
     "text": [
      "Moviepy - Done !\n",
      "Moviepy - video ready /home/sowell/projects/rl_group_assignment/videos/d_dqn/trained/rl-video-episode-7.mp4\n",
      "Moviepy - Building video /home/sowell/projects/rl_group_assignment/videos/d_dqn/trained/rl-video-episode-8.mp4.\n",
      "Moviepy - Writing video /home/sowell/projects/rl_group_assignment/videos/d_dqn/trained/rl-video-episode-8.mp4\n",
      "\n"
     ]
    },
    {
     "name": "stderr",
     "output_type": "stream",
     "text": [
      "                                                                \r"
     ]
    },
    {
     "name": "stdout",
     "output_type": "stream",
     "text": [
      "Moviepy - Done !\n",
      "Moviepy - video ready /home/sowell/projects/rl_group_assignment/videos/d_dqn/trained/rl-video-episode-8.mp4\n",
      "Moviepy - Building video /home/sowell/projects/rl_group_assignment/videos/d_dqn/trained/rl-video-episode-9.mp4.\n",
      "Moviepy - Writing video /home/sowell/projects/rl_group_assignment/videos/d_dqn/trained/rl-video-episode-9.mp4\n",
      "\n"
     ]
    },
    {
     "name": "stderr",
     "output_type": "stream",
     "text": [
      "                                                                "
     ]
    },
    {
     "name": "stdout",
     "output_type": "stream",
     "text": [
      "Moviepy - Done !\n",
      "Moviepy - video ready /home/sowell/projects/rl_group_assignment/videos/d_dqn/trained/rl-video-episode-9.mp4\n"
     ]
    },
    {
     "name": "stderr",
     "output_type": "stream",
     "text": [
      "\r"
     ]
    }
   ],
   "source": [
    "film(env, agent, 10, \"../videos/d_dqn/trained/\")"
   ]
  },
  {
   "cell_type": "code",
   "execution_count": null,
   "metadata": {},
   "outputs": [],
   "source": []
  }
 ],
 "metadata": {
  "kernelspec": {
   "display_name": "venv",
   "language": "python",
   "name": "python3"
  },
  "language_info": {
   "codemirror_mode": {
    "name": "ipython",
    "version": 3
   },
   "file_extension": ".py",
   "mimetype": "text/x-python",
   "name": "python",
   "nbconvert_exporter": "python",
   "pygments_lexer": "ipython3",
   "version": "3.11.5"
  }
 },
 "nbformat": 4,
 "nbformat_minor": 2
}
