{
 "cells": [
  {
   "cell_type": "markdown",
   "metadata": {},
   "source": [
    "# Rainbow DQN from Scratch"
   ]
  },
  {
   "cell_type": "markdown",
   "metadata": {},
   "source": [
    "# Imports & Constants"
   ]
  },
  {
   "cell_type": "code",
   "execution_count": 1,
   "metadata": {},
   "outputs": [],
   "source": [
    "import sys\n",
    "import os\n",
    "\n",
    "# Assuming the notebook is located inside `subfolder` and\n",
    "# we want to import a module in `parent_folder`\n",
    "\n",
    "# Get the absolute path to the 'subfolder'.\n",
    "notebook_dir = os.path.dirname(os.path.abspath(\"__file__\"))\n",
    "\n",
    "# Calculate the path to the 'parent_folder' by going one level up.\n",
    "parent_dir = os.path.dirname(notebook_dir)\n",
    "\n",
    "# Add the 'parent_folder' to sys.path if it is not already there.\n",
    "if parent_dir not in sys.path:\n",
    "    sys.path.append(parent_dir)"
   ]
  },
  {
   "cell_type": "code",
   "execution_count": 2,
   "metadata": {},
   "outputs": [],
   "source": [
    "import os\n",
    "import math\n",
    "import time\n",
    "import random\n",
    "\n",
    "import gymnasium as gym\n",
    "import matplotlib.pyplot as plt\n",
    "import numpy as np\n",
    "import torch\n",
    "import torch.nn as nn\n",
    "import torch.nn.functional as F\n",
    "import torch.optim as optim\n",
    "import pandas as pd\n",
    "\n",
    "from numpy import float64, ndarray\n",
    "from IPython.display import clear_output\n",
    "from collections import deque\n",
    "from typing import Dict, List, Tuple, Deque\n",
    "from torch.nn.utils import clip_grad_norm_\n",
    "\n",
    "from agents import MlpDQNAgent\n",
    "from buffers import NStepReplayBuffer\n",
    "from networks import Network\n",
    "from trees import MinSegmentTree, SumSegmentTree\n",
    "from layers import NoisyLinear"
   ]
  },
  {
   "cell_type": "markdown",
   "metadata": {},
   "source": [
    "# Modified Prioritised Replay Buffer"
   ]
  },
  {
   "cell_type": "code",
   "execution_count": 3,
   "metadata": {},
   "outputs": [],
   "source": [
    "class PrioritisedReplayBuffer(NStepReplayBuffer):\n",
    "    \"\"\"\n",
    "    Class representing a Prioritised Replay Buffer with N-step returns.\n",
    "    \"\"\"\n",
    "\n",
    "    def __init__(\n",
    "            self, \n",
    "            obs_shape: Tuple, \n",
    "            size: int, \n",
    "            batch_size: int = 32, \n",
    "            alpha: float = 0.6,\n",
    "            n_step: int = 1,\n",
    "            gamma: float = 0.99,\n",
    "        ):\n",
    "        \"\"\"\n",
    "        Instantiates a PrioritisedReplayBuffer.\n",
    "        \"\"\"\n",
    "        super().__init__(obs_shape, size, batch_size, n_step, gamma)\n",
    "        self.alpha = alpha\n",
    "\n",
    "        self.max_priority = 1\n",
    "        self.tree_ptr = 0\n",
    "\n",
    "        # The capacity must be positive and a power of 2.\n",
    "        tree_capcity = 1\n",
    "        while tree_capcity < self.max_size:\n",
    "            tree_capcity *= 2\n",
    "\n",
    "        self.sum_tree = SumSegmentTree(tree_capcity)\n",
    "        self.min_tree = MinSegmentTree(tree_capcity)\n",
    "\n",
    "    def store(self, obs: ndarray, act: ndarray, rew: ndarray, next_obs: ndarray, done: bool):\n",
    "        \"\"\"\n",
    "        Stores the experience and its associated priority.\n",
    "        \"\"\"\n",
    "        transition = super().store(obs, act, rew, next_obs, done)\n",
    "\n",
    "        if transition:\n",
    "            self.sum_tree[self.tree_ptr] = self.max_priority ** self.alpha\n",
    "            self.min_tree[self.tree_ptr] = self.max_priority ** self.alpha\n",
    "            self.tree_ptr = (self.tree_ptr + 1) % self.max_size\n",
    "\n",
    "        return transition\n",
    "\n",
    "    def sample_batch(self, beta: float = 0.4) -> Dict[str, ndarray]:\n",
    "        \"\"\"\n",
    "        Samples a batch of experiences with prioritised replay.\n",
    "        \"\"\"\n",
    "        indices = self._sample_proportional()\n",
    "        weights = np.array([self._calculate_weight(idx, beta) for idx in indices])\n",
    "\n",
    "        return dict(\n",
    "            obs=self.obs_buf[indices],\n",
    "            next_obs=self.next_obs_buf[indices],\n",
    "            acts=self.acts_buf[indices],\n",
    "            rews=self.rews_buf[indices],\n",
    "            done=self.done_buf[indices],\n",
    "            weights=weights,\n",
    "            indices=indices,\n",
    "        )\n",
    "    \n",
    "    def update_priorities(self, indices: List[int], priorities: np.ndarray):\n",
    "        \"\"\"\n",
    "        Updates the priorities of sample transitions.\n",
    "        \"\"\"\n",
    "        for idx, priority in zip(indices, priorities):\n",
    "            self.sum_tree[idx] = priority ** self.alpha\n",
    "            self.min_tree[idx] = priority ** self.alpha\n",
    "\n",
    "            self.max_priority = max(self.max_priority, priority)\n",
    "\n",
    "    def _sample_proportional(self) -> List[int]:\n",
    "        \"\"\"\n",
    "        Samples indices based on proportions.\n",
    "        \"\"\"\n",
    "        indices = []\n",
    "        p_total = self.sum_tree.sum(0, self.size - 1)\n",
    "        segment = p_total / self.batch_size\n",
    "\n",
    "        for i in range(self.batch_size):\n",
    "            a = segment * i\n",
    "            b = segment * (i + 1)\n",
    "            upperbound = random.uniform(a, b)\n",
    "            idx = self.sum_tree.retrieve(upperbound)\n",
    "            indices.append(idx)\n",
    "\n",
    "        return indices\n",
    "    \n",
    "    def _calculate_weight(self, idx: int, beta: float) -> float:\n",
    "        \"\"\"\n",
    "        Calculates the weight of the experience at `idx`.\n",
    "        \"\"\"\n",
    "        p_min = self.min_tree.min() / self.sum_tree.sum()\n",
    "        max_weight = (p_min * self.size) ** (-beta)\n",
    "\n",
    "        p_sample = self.sum_tree[idx] / self.sum_tree.sum()\n",
    "        weight = (p_sample * self.size) ** (-beta)\n",
    "        weight = weight / max_weight\n",
    "        \n",
    "        return weight"
   ]
  },
  {
   "cell_type": "markdown",
   "metadata": {},
   "source": [
    "# Noisy + Dueling + Categorical Networks\n",
    "\n",
    "[`NoisyLinear`](../layers.py) layers are employed for the last two layers of advantage and value layers. This noise is reset every update step (everytime `update_model` is called)."
   ]
  },
  {
   "cell_type": "code",
   "execution_count": 4,
   "metadata": {},
   "outputs": [],
   "source": [
    "class RainbowNetwork(nn.Module):\n",
    "\n",
    "    def __init__(\n",
    "        self,\n",
    "        in_dim: int,\n",
    "        out_dim: int,\n",
    "        atom_size: int,\n",
    "        support: torch.Tensor,\n",
    "    ):\n",
    "        \"\"\"\n",
    "        Instantiates a RainbowNetwork.\n",
    "        \"\"\"\n",
    "        super().__init__()\n",
    "\n",
    "        self.support = support\n",
    "        self.out_dim = out_dim\n",
    "        self.in_dim = in_dim\n",
    "        self.atom_size = atom_size\n",
    "\n",
    "        # Common feature layer.\n",
    "        self.feature_layer = nn.Sequential(\n",
    "            nn.Linear(in_dim, 128),\n",
    "            nn.ReLU(),\n",
    "        )\n",
    "\n",
    "        # Action advantage layer.\n",
    "        self.advantage_hidden_layer = NoisyLinear(128, 128)\n",
    "        self.advantage_layer = NoisyLinear(128, out_dim * atom_size)\n",
    "\n",
    "        # State value layer.\n",
    "        self.value_hidden_layer = NoisyLinear(128, 128)\n",
    "        self.value_layer = NoisyLinear(128, atom_size)\n",
    "\n",
    "    def forward(self, x: torch.Tensor) -> torch.Tensor:\n",
    "        \"\"\"\n",
    "        Performs a forward pass of the neural network.\n",
    "        \"\"\"\n",
    "        dist = self.dist(x)\n",
    "        q = torch.sum(dist * self.support, dim=2)\n",
    "\n",
    "        return q\n",
    "    \n",
    "    def dist(self, x: torch.Tensor) -> torch.Tensor:\n",
    "        \"\"\"\n",
    "        Gets a distribution over atoms.\n",
    "        \"\"\"\n",
    "        feature = self.feature_layer(x)\n",
    "\n",
    "        avd_hid = F.relu(self.advantage_hidden_layer(feature))\n",
    "        val_hid = F.relu(self.value_hidden_layer(feature))\n",
    "\n",
    "        advantage = self.advantage_layer(avd_hid).view(\n",
    "            -1, self.out_dim, self.atom_size\n",
    "        )\n",
    "        value = self.value_layer(val_hid).view(\n",
    "            -1, 1, self.atom_size\n",
    "        )\n",
    "\n",
    "        q_atoms = value + advantage - advantage.mean(dim=1, keepdim=True)\n",
    "\n",
    "        dist = F.softmax(q_atoms, dim=-1)\n",
    "        # To avoid NaNs\n",
    "        dist = dist.clamp(min=1e-3)\n",
    "\n",
    "        return dist\n",
    "    \n",
    "    def reset_noise(self):\n",
    "        \"\"\"\n",
    "        Resets all the noisy layers.\n",
    "        \"\"\"\n",
    "        self.advantage_hidden_layer.reset_noise()\n",
    "        self.advantage_layer.reset_noise()\n",
    "        self.value_hidden_layer.reset_noise()\n",
    "        self.value_layer.reset_noise()"
   ]
  },
  {
   "cell_type": "markdown",
   "metadata": {},
   "source": [
    "# Rainbow DQN Agent"
   ]
  },
  {
   "cell_type": "code",
   "execution_count": null,
   "metadata": {},
   "outputs": [],
   "source": [
    "from typing import Dict\n",
    "from numpy import ndarray\n",
    "from torch._tensor import Tensor"
   ]
  },
  {
   "cell_type": "code",
   "execution_count": 5,
   "metadata": {},
   "outputs": [],
   "source": [
    "class RainbowDQNAgent(MlpDQNAgent):\n",
    "\n",
    "    def __init__(\n",
    "        self,        \n",
    "        env: gym.Env,\n",
    "        memory_size: int,\n",
    "        batch_size: int,\n",
    "        target_update: int,\n",
    "        seed: int = 42,\n",
    "        gamma = 0.99,\n",
    "        # Priortised Experience Replay Params\n",
    "        alpha: float = 0.2,\n",
    "        beta: float = 0.6,\n",
    "        prior_eps: float = 1e-6,\n",
    "        # Categorical DQN Params\n",
    "        v_min: float = 0.0,\n",
    "        v_max: float = 200.0,\n",
    "        atom_size: int = 51,\n",
    "        # N-step Learning\n",
    "        n_step: int = 3,\n",
    "    ):\n",
    "        super().__init__(\n",
    "            env,\n",
    "            memory_size,\n",
    "            batch_size,\n",
    "            target_update,\n",
    "            seed=seed,\n",
    "            gamma=gamma,\n",
    "        )\n",
    "\n",
    "        # Prioritised Replay Buffer. This is the memory for 1-step learning.\n",
    "        self.beta = beta\n",
    "        self.alpha = alpha\n",
    "        self.prior_eps = prior_eps\n",
    "        self.memory = PrioritisedReplayBuffer(\n",
    "            self.obs_shape, memory_size, batch_size, alpha=alpha, gamma=gamma\n",
    "        )\n",
    "\n",
    "        # Memory for N-step learning.\n",
    "        self.use_n_step = n_step > 1\n",
    "        if self.use_n_step:\n",
    "            self.n_step = n_step\n",
    "            self.memory_n = NStepReplayBuffer(\n",
    "                self.obs_shape, memory_size, batch_size, n_step=n_step, gamma=gamma\n",
    "            )\n",
    "\n",
    "        # Categorical DQN Parameters.\n",
    "        self.v_min = v_min\n",
    "        self.v_max = v_max\n",
    "        self.atom_size = atom_size\n",
    "        self.support = torch.linspace(\n",
    "            v_min, v_max, atom_size\n",
    "        ).to(self.device)\n",
    "\n",
    "        # Value networks\n",
    "        self.dqn = RainbowNetwork(\n",
    "            self.obs_dim, self.action_dim, atom_size, self.support\n",
    "        ).to(self.device)\n",
    "        self.dqn_target = RainbowNetwork(\n",
    "            self.obs_dim, self.action_dim, atom_size, self.support\n",
    "        ).to(self.device)\n",
    "        self.dqn_target.load_state_dict(self.dqn.state_dict())\n",
    "        self.dqn_target.eval()\n",
    "\n",
    "        # Optimiser\n",
    "        self.optimiser = optim.Adam(self.dqn.parameters())\n",
    "\n",
    "    def select_action(self, state: np.ndarray, determinstic: bool = False) -> np.ndarray:\n",
    "        # As we are using noisy networks, we do not use an epsilon-greedy policy for\n",
    "        # action selection.\n",
    "        flattened_state = state.flatten()\n",
    "\n",
    "        selected_action = self.dqn(\n",
    "            torch.Tensor(flattened_state).to(self.device)\n",
    "        ).argmax()\n",
    "        selected_action = selected_action.detach().cpu().numpy()\n",
    "\n",
    "        if not self.is_test:\n",
    "            self.transition = [state, selected_action]\n",
    "\n",
    "        return selected_action\n",
    "    \n",
    "    def step(self, action: ndarray) -> Tuple[ndarray, float64, bool]:\n",
    "        next_state, reward, terminated, truncated, _ = self.env.step(action)\n",
    "        done = terminated or truncated\n",
    "        \n",
    "        if not self.is_test:\n",
    "            self.transition += [reward, next_state, done]\n",
    "            \n",
    "            # N-step transition\n",
    "            if self.use_n_step:\n",
    "                one_step_transition = self.memory_n.store(*self.transition)\n",
    "            # 1-step transition\n",
    "            else:\n",
    "                one_step_transition = self.transition\n",
    "\n",
    "            # Add a single step transition\n",
    "            if one_step_transition:\n",
    "                self.memory.store(*one_step_transition)\n",
    "    \n",
    "        return next_state, reward, done\n",
    "    \n",
    "    def update_model(self) -> Tensor:\n",
    "        # PER uses beta to calculate the weights.\n",
    "        samples = self.memory.sample_batch(self.beta)\n",
    "\n",
    "        weights = torch.FloatTensor(\n",
    "            samples[\"weights\"].reshape(-1, 1)\n",
    "        ).to(self.device)\n",
    "        indices = samples[\"indices\"]\n",
    "\n",
    "        # 1-step learning loss.\n",
    "        elementwise_loss = self._compute_dqn_loss(samples, self.gamma)\n",
    "\n",
    "        # N-step learning loss. We combine 1-step and n-step loss so as to\n",
    "        # prevent high variance. The original RainbowDQN employs only n-step.\n",
    "        if self.use_n_step:\n",
    "            gamma = self.gamma ** self.n_step\n",
    "            samples = self.memory_n.sample_batch_from_idxs(indices)\n",
    "\n",
    "            elementwise_loss_n = self._compute_dqn_loss(samples, gamma)\n",
    "            elementwise_loss += elementwise_loss_n\n",
    "\n",
    "        # PER: Importance sampling before averaging.\n",
    "        loss = torch.mean(elementwise_loss * weights)\n",
    "\n",
    "        self.optimiser.zero_grad()\n",
    "        loss.backward()\n",
    "\n",
    "        # Dueling Networks: We clip the gradients to prevent exploding gradients.\n",
    "        clip_grad_norm_(self.dqn.parameters(), 10.0)\n",
    "        self.optimiser.step()\n",
    "\n",
    "        # PER: Update experience priorities.\n",
    "        loss_for_prior = elementwise_loss.detach().cpu().numpy()\n",
    "        new_priorities = loss_for_prior + self.prior_eps\n",
    "        self.memory.update_priorities(indices, new_priorities)\n",
    "\n",
    "        # Noisy Network: Reset the noise in the noisy network layers.\n",
    "        self.dqn.reset_noise()\n",
    "        self.dqn_target.reset_noise()\n",
    "\n",
    "        return loss.item()\n",
    "    \n",
    "    def train(self, num_frames: int, plotting_interval: int = 200):\n",
    "        \"\"\"\n",
    "        Trains the agent.\n",
    "        \"\"\"\n",
    "        self.is_test = False\n",
    "        state, _ = self.env.reset()\n",
    "\n",
    "        update_count = 0\n",
    "        losses = []\n",
    "        scores = []\n",
    "        score = 0\n",
    "\n",
    "        for frame_idx in range(num_frames):\n",
    "            action = self.select_action(state)\n",
    "            next_state, reward, done = self.step(action)\n",
    "\n",
    "            state = next_state\n",
    "            score += reward\n",
    "\n",
    "            # PER: Increase param beta.\n",
    "            fraction = min(frame_idx / num_frames, 1.0)\n",
    "            self.beta = self.beta + fraction * (1.0 - self.beta)\n",
    "\n",
    "            if done:\n",
    "                # The episode has ended.\n",
    "                state, _ = self.env.reset()\n",
    "                scores.append(score)\n",
    "                score = 0\n",
    "\n",
    "            if len(self.memory) >= self.batch_size:\n",
    "                # Training is ready once the replay buffer contains enough transition samples.\n",
    "                loss = self.update_model()\n",
    "                losses.append(loss)\n",
    "                update_count += 1\n",
    "\n",
    "                # Noisy Networks: Removed decrease of epsilon.\n",
    "\n",
    "                # If a hard update of the target network is needed.\n",
    "                if update_count % self.target_update == 0:\n",
    "                    self._target_hard_update()\n",
    "\n",
    "            if (frame_idx + 1) % plotting_interval == 0:\n",
    "                self._plot(frame_idx + 1, scores, losses, [])\n",
    "\n",
    "        self.env.close()\n",
    "\n",
    "        return scores, losses, []\n",
    "\n",
    "    def _compute_dqn_loss(self, samples: Dict[str, ndarray], gamma: float = None) -> torch.Tensor:\n",
    "        \"\"\"\n",
    "        Computes and returns the Categorical DQN loss.\n",
    "        \"\"\"\n",
    "        if gamma is None:\n",
    "            gamma = self.gamma\n",
    "\n",
    "        device = self.device\n",
    "        # Shape = (batch_size, obs dim 1, obs dim 2, ...)\n",
    "        # This flattens the observation dimensions of `state` and `next_state`.\n",
    "        state = torch.FloatTensor(samples[\"obs\"].reshape(self.batch_size, -1)).to(device)\n",
    "        next_state = torch.FloatTensor(samples[\"next_obs\"].reshape(self.batch_size, -1)).to(device)\n",
    "\n",
    "        # Reshapes each 1-dimesional array into a 2-dimensional array with one column.\n",
    "        action = torch.LongTensor(samples[\"acts\"]).to(device)\n",
    "        reward = torch.FloatTensor(samples[\"rews\"].reshape(-1, 1)).to(device)\n",
    "        done = torch.FloatTensor(samples[\"done\"].reshape(-1, 1)).to(device)\n",
    "\n",
    "        # Categorical DQN algorithm\n",
    "        delta_z = float(self.v_max - self.v_min) / (self.atom_size - 1)\n",
    "\n",
    "        with torch.no_grad():\n",
    "            # Double DQN\n",
    "            next_action = self.dqn(next_state).argmax(1)\n",
    "            next_dist = self.dqn_target.dist(next_state)\n",
    "            next_dist = next_dist[range(self.batch_size), next_action]\n",
    "\n",
    "            t_z = reward + (1 - done) * gamma * self.support\n",
    "            t_z = t_z.clamp(min=self.v_min, max=self.v_max)\n",
    "            b = (t_z - self.v_min) / delta_z\n",
    "            l = b.floor().long()\n",
    "            u = b.ceil().long()\n",
    "\n",
    "            offset = (\n",
    "                torch.linspace(\n",
    "                    0, (self.batch_size - 1) * self.atom_size, self.batch_size\n",
    "                ).long()\n",
    "                .unsqueeze(1)\n",
    "                .expand(self.batch_size, self.atom_size)\n",
    "                .to(self.device)\n",
    "            )\n",
    "\n",
    "            proj_dist = torch.zeros(next_dist.size(), device=self.device)\n",
    "            proj_dist.view(-1).index_add_(\n",
    "                0, (l + offset).view(-1), (next_dist * (u.float() - b)).view(-1)\n",
    "            )\n",
    "            proj_dist.view(-1).index_add_(\n",
    "                0, (u + offset).view(-1), (next_dist * (b - l.float())).view(-1)\n",
    "            )\n",
    "        \n",
    "        dist = self.dqn.dist(state)\n",
    "        log_p = torch.log(dist[range(self.batch_size), action])\n",
    "        elementwise_loss = -(proj_dist * log_p).sum(1)\n",
    "\n",
    "        return elementwise_loss"
   ]
  },
  {
   "cell_type": "markdown",
   "metadata": {},
   "source": [
    "# Train an Agent"
   ]
  },
  {
   "cell_type": "code",
   "execution_count": 6,
   "metadata": {},
   "outputs": [],
   "source": [
    "config = {\n",
    "    'lanes_count': 4,\n",
    "    'duration': 50,\n",
    "}"
   ]
  },
  {
   "cell_type": "code",
   "execution_count": 7,
   "metadata": {},
   "outputs": [],
   "source": [
    "env = gym.make(\"highway-fast-v0\", render_mode=\"rgb_array\")\n",
    "env.unwrapped.configure(config)\n",
    "obs, info = env.reset()"
   ]
  },
  {
   "cell_type": "code",
   "execution_count": 10,
   "metadata": {},
   "outputs": [
    {
     "name": "stdout",
     "output_type": "stream",
     "text": [
      "cuda\n"
     ]
    }
   ],
   "source": [
    "seed = 777\n",
    "num_frames = 400_000\n",
    "memory_size = 20_000\n",
    "gamma = 0.85\n",
    "batch_size = 64\n",
    "target_update = 50\n",
    "\n",
    "agent = RainbowDQNAgent(\n",
    "    env,\n",
    "    memory_size,\n",
    "    batch_size,\n",
    "    target_update,\n",
    "    seed=seed,\n",
    "    gamma=gamma\n",
    ")"
   ]
  },
  {
   "cell_type": "code",
   "execution_count": 11,
   "metadata": {},
   "outputs": [
    {
     "data": {
      "image/png": "[encoded data removed]",
      "text/plain": [
       "<Figure size 2000x500 with 3 Axes>"
      ]
     },
     "metadata": {},
     "output_type": "display_data"
    }
   ],
   "source": [
    "scores, losses, epsilons = agent.train(num_frames)"
   ]
  },
  {
   "cell_type": "code",
   "execution_count": null,
   "metadata": {},
   "outputs": [],
   "source": [
    "# pd.DataFrame({\"Rainbow DQN\": scores}).to_csv(\"../results/rainbow_dqn.csv\")"
   ]
  },
  {
   "cell_type": "markdown",
   "metadata": {},
   "source": [
    "# Test the Agent"
   ]
  },
  {
   "cell_type": "code",
   "execution_count": null,
   "metadata": {},
   "outputs": [
    {
     "data": {
      "image/png": "[encoded data removed]",
      "text/plain": [
       "<Figure size 640x480 with 1 Axes>"
      ]
     },
     "metadata": {},
     "output_type": "display_data"
    }
   ],
   "source": [
    "ep_lens, ep_rews = agent.test(1, time_interval=0.01)"
   ]
  },
  {
   "cell_type": "code",
   "execution_count": null,
   "metadata": {},
   "outputs": [
    {
     "name": "stdout",
     "output_type": "stream",
     "text": [
      "Mean Episode Length: 36.83\n",
      "Mean Score Per Episode: 32.993678937494394\n"
     ]
    }
   ],
   "source": [
    "print(\"Mean Episode Length:\", np.mean(ep_lens))\n",
    "print(\"Mean Score Per Episode:\", np.mean(ep_rews))"
   ]
  },
  {
   "cell_type": "markdown",
   "metadata": {},
   "source": [
    "# Film the agent"
   ]
  },
  {
   "cell_type": "code",
   "execution_count": 12,
   "metadata": {},
   "outputs": [],
   "source": [
    "from gymnasium.wrappers import RecordVideo\n",
    "from agents import BaseDQNAgent"
   ]
  },
  {
   "cell_type": "code",
   "execution_count": 13,
   "metadata": {},
   "outputs": [],
   "source": [
    "env = gym.make(\"highway-v0\", render_mode=\"rgb_array\")"
   ]
  },
  {
   "cell_type": "code",
   "execution_count": 14,
   "metadata": {},
   "outputs": [],
   "source": [
    "def film(env: gym.Env, test_agent: BaseDQNAgent, film_length: int, video_folder: str):\n",
    "    vid_env = RecordVideo(env, video_folder=video_folder,\n",
    "              episode_trigger=lambda e: True)  # record all episodes\n",
    "\n",
    "    # Provide the video recorder to the wrapped environment\n",
    "    # so it can send it intermediate simulation frames.\n",
    "    vid_env.unwrapped.set_record_video_wrapper(vid_env)\n",
    "\n",
    "    test_agent.set_mode(is_test=True)\n",
    "\n",
    "    for i in range(film_length):\n",
    "        obs, info = vid_env.reset()\n",
    "        done = truncated = False\n",
    "\n",
    "        while not (done or truncated):\n",
    "            action = test_agent.predict(obs, determinstic=True)\n",
    "            obs, reward, done, truncated, info = vid_env.step(action)\n",
    "            vid_env.render()\n",
    "        vid_env.close()"
   ]
  },
  {
   "cell_type": "markdown",
   "metadata": {},
   "source": [
    "## Before Training"
   ]
  },
  {
   "cell_type": "code",
   "execution_count": 15,
   "metadata": {},
   "outputs": [
    {
     "name": "stdout",
     "output_type": "stream",
     "text": [
      "cuda\n",
      "Moviepy - Building video /home/sowell/projects/rl_group_assignment/videos/rainbow_dqn/untrained/rl-video-episode-0.mp4.\n",
      "Moviepy - Writing video /home/sowell/projects/rl_group_assignment/videos/rainbow_dqn/untrained/rl-video-episode-0.mp4\n",
      "\n"
     ]
    },
    {
     "name": "stderr",
     "output_type": "stream",
     "text": [
      "                                                                \r"
     ]
    },
    {
     "name": "stdout",
     "output_type": "stream",
     "text": [
      "Moviepy - Done !\n",
      "Moviepy - video ready /home/sowell/projects/rl_group_assignment/videos/rainbow_dqn/untrained/rl-video-episode-0.mp4\n",
      "Moviepy - Building video /home/sowell/projects/rl_group_assignment/videos/rainbow_dqn/untrained/rl-video-episode-1.mp4.\n",
      "Moviepy - Writing video /home/sowell/projects/rl_group_assignment/videos/rainbow_dqn/untrained/rl-video-episode-1.mp4\n",
      "\n"
     ]
    },
    {
     "name": "stderr",
     "output_type": "stream",
     "text": [
      "                                                                \r"
     ]
    },
    {
     "name": "stdout",
     "output_type": "stream",
     "text": [
      "Moviepy - Done !\n",
      "Moviepy - video ready /home/sowell/projects/rl_group_assignment/videos/rainbow_dqn/untrained/rl-video-episode-1.mp4\n",
      "Moviepy - Building video /home/sowell/projects/rl_group_assignment/videos/rainbow_dqn/untrained/rl-video-episode-2.mp4.\n",
      "Moviepy - Writing video /home/sowell/projects/rl_group_assignment/videos/rainbow_dqn/untrained/rl-video-episode-2.mp4\n",
      "\n"
     ]
    },
    {
     "name": "stderr",
     "output_type": "stream",
     "text": [
      "                                                                \r"
     ]
    },
    {
     "name": "stdout",
     "output_type": "stream",
     "text": [
      "Moviepy - Done !\n",
      "Moviepy - video ready /home/sowell/projects/rl_group_assignment/videos/rainbow_dqn/untrained/rl-video-episode-2.mp4\n",
      "Moviepy - Building video /home/sowell/projects/rl_group_assignment/videos/rainbow_dqn/untrained/rl-video-episode-3.mp4.\n",
      "Moviepy - Writing video /home/sowell/projects/rl_group_assignment/videos/rainbow_dqn/untrained/rl-video-episode-3.mp4\n",
      "\n"
     ]
    },
    {
     "name": "stderr",
     "output_type": "stream",
     "text": [
      "                                                                \r"
     ]
    },
    {
     "name": "stdout",
     "output_type": "stream",
     "text": [
      "Moviepy - Done !\n",
      "Moviepy - video ready /home/sowell/projects/rl_group_assignment/videos/rainbow_dqn/untrained/rl-video-episode-3.mp4\n",
      "Moviepy - Building video /home/sowell/projects/rl_group_assignment/videos/rainbow_dqn/untrained/rl-video-episode-4.mp4.\n",
      "Moviepy - Writing video /home/sowell/projects/rl_group_assignment/videos/rainbow_dqn/untrained/rl-video-episode-4.mp4\n",
      "\n"
     ]
    },
    {
     "name": "stderr",
     "output_type": "stream",
     "text": [
      "                                                   "
     ]
    },
    {
     "name": "stdout",
     "output_type": "stream",
     "text": [
      "Moviepy - Done !\n",
      "Moviepy - video ready /home/sowell/projects/rl_group_assignment/videos/rainbow_dqn/untrained/rl-video-episode-4.mp4\n"
     ]
    },
    {
     "name": "stderr",
     "output_type": "stream",
     "text": [
      "\r"
     ]
    },
    {
     "name": "stdout",
     "output_type": "stream",
     "text": [
      "Moviepy - Building video /home/sowell/projects/rl_group_assignment/videos/rainbow_dqn/untrained/rl-video-episode-5.mp4.\n",
      "Moviepy - Writing video /home/sowell/projects/rl_group_assignment/videos/rainbow_dqn/untrained/rl-video-episode-5.mp4\n",
      "\n"
     ]
    },
    {
     "name": "stderr",
     "output_type": "stream",
     "text": [
      "                                                                \r"
     ]
    },
    {
     "name": "stdout",
     "output_type": "stream",
     "text": [
      "Moviepy - Done !\n",
      "Moviepy - video ready /home/sowell/projects/rl_group_assignment/videos/rainbow_dqn/untrained/rl-video-episode-5.mp4\n",
      "Moviepy - Building video /home/sowell/projects/rl_group_assignment/videos/rainbow_dqn/untrained/rl-video-episode-6.mp4.\n",
      "Moviepy - Writing video /home/sowell/projects/rl_group_assignment/videos/rainbow_dqn/untrained/rl-video-episode-6.mp4\n",
      "\n"
     ]
    },
    {
     "name": "stderr",
     "output_type": "stream",
     "text": [
      "                                                                \r"
     ]
    },
    {
     "name": "stdout",
     "output_type": "stream",
     "text": [
      "Moviepy - Done !\n",
      "Moviepy - video ready /home/sowell/projects/rl_group_assignment/videos/rainbow_dqn/untrained/rl-video-episode-6.mp4\n",
      "Moviepy - Building video /home/sowell/projects/rl_group_assignment/videos/rainbow_dqn/untrained/rl-video-episode-7.mp4.\n",
      "Moviepy - Writing video /home/sowell/projects/rl_group_assignment/videos/rainbow_dqn/untrained/rl-video-episode-7.mp4\n",
      "\n"
     ]
    },
    {
     "name": "stderr",
     "output_type": "stream",
     "text": [
      "                                                                \r"
     ]
    },
    {
     "name": "stdout",
     "output_type": "stream",
     "text": [
      "Moviepy - Done !\n",
      "Moviepy - video ready /home/sowell/projects/rl_group_assignment/videos/rainbow_dqn/untrained/rl-video-episode-7.mp4\n",
      "Moviepy - Building video /home/sowell/projects/rl_group_assignment/videos/rainbow_dqn/untrained/rl-video-episode-8.mp4.\n",
      "Moviepy - Writing video /home/sowell/projects/rl_group_assignment/videos/rainbow_dqn/untrained/rl-video-episode-8.mp4\n",
      "\n"
     ]
    },
    {
     "name": "stderr",
     "output_type": "stream",
     "text": [
      "                                                                \r"
     ]
    },
    {
     "name": "stdout",
     "output_type": "stream",
     "text": [
      "Moviepy - Done !\n",
      "Moviepy - video ready /home/sowell/projects/rl_group_assignment/videos/rainbow_dqn/untrained/rl-video-episode-8.mp4\n",
      "Moviepy - Building video /home/sowell/projects/rl_group_assignment/videos/rainbow_dqn/untrained/rl-video-episode-9.mp4.\n",
      "Moviepy - Writing video /home/sowell/projects/rl_group_assignment/videos/rainbow_dqn/untrained/rl-video-episode-9.mp4\n",
      "\n"
     ]
    },
    {
     "name": "stderr",
     "output_type": "stream",
     "text": [
      "                                                                "
     ]
    },
    {
     "name": "stdout",
     "output_type": "stream",
     "text": [
      "Moviepy - Done !\n",
      "Moviepy - video ready /home/sowell/projects/rl_group_assignment/videos/rainbow_dqn/untrained/rl-video-episode-9.mp4\n"
     ]
    },
    {
     "name": "stderr",
     "output_type": "stream",
     "text": [
      "\r"
     ]
    }
   ],
   "source": [
    "untrained_agent = RainbowDQNAgent(\n",
    "    env,\n",
    "    memory_size,\n",
    "    batch_size,\n",
    "    target_update,\n",
    "    seed=seed,\n",
    "    gamma=gamma\n",
    ")\n",
    "\n",
    "film(env, untrained_agent, 10, \"../videos/rainbow_dqn/untrained/\")"
   ]
  },
  {
   "cell_type": "markdown",
   "metadata": {},
   "source": [
    "## After training"
   ]
  },
  {
   "cell_type": "code",
   "execution_count": 16,
   "metadata": {},
   "outputs": [
    {
     "name": "stdout",
     "output_type": "stream",
     "text": [
      "Moviepy - Building video /home/sowell/projects/rl_group_assignment/videos/rainbow_dqn/trained/rl-video-episode-0.mp4.\n",
      "Moviepy - Writing video /home/sowell/projects/rl_group_assignment/videos/rainbow_dqn/trained/rl-video-episode-0.mp4\n",
      "\n"
     ]
    },
    {
     "name": "stderr",
     "output_type": "stream",
     "text": [
      "                                                                \r"
     ]
    },
    {
     "name": "stdout",
     "output_type": "stream",
     "text": [
      "Moviepy - Done !\n",
      "Moviepy - video ready /home/sowell/projects/rl_group_assignment/videos/rainbow_dqn/trained/rl-video-episode-0.mp4\n",
      "Moviepy - Building video /home/sowell/projects/rl_group_assignment/videos/rainbow_dqn/trained/rl-video-episode-1.mp4.\n",
      "Moviepy - Writing video /home/sowell/projects/rl_group_assignment/videos/rainbow_dqn/trained/rl-video-episode-1.mp4\n",
      "\n"
     ]
    },
    {
     "name": "stderr",
     "output_type": "stream",
     "text": [
      "                                                                \r"
     ]
    },
    {
     "name": "stdout",
     "output_type": "stream",
     "text": [
      "Moviepy - Done !\n",
      "Moviepy - video ready /home/sowell/projects/rl_group_assignment/videos/rainbow_dqn/trained/rl-video-episode-1.mp4\n",
      "Moviepy - Building video /home/sowell/projects/rl_group_assignment/videos/rainbow_dqn/trained/rl-video-episode-2.mp4.\n",
      "Moviepy - Writing video /home/sowell/projects/rl_group_assignment/videos/rainbow_dqn/trained/rl-video-episode-2.mp4\n",
      "\n"
     ]
    },
    {
     "name": "stderr",
     "output_type": "stream",
     "text": [
      "                                                                \r"
     ]
    },
    {
     "name": "stdout",
     "output_type": "stream",
     "text": [
      "Moviepy - Done !\n",
      "Moviepy - video ready /home/sowell/projects/rl_group_assignment/videos/rainbow_dqn/trained/rl-video-episode-2.mp4\n",
      "Moviepy - Building video /home/sowell/projects/rl_group_assignment/videos/rainbow_dqn/trained/rl-video-episode-3.mp4.\n",
      "Moviepy - Writing video /home/sowell/projects/rl_group_assignment/videos/rainbow_dqn/trained/rl-video-episode-3.mp4\n",
      "\n"
     ]
    },
    {
     "name": "stderr",
     "output_type": "stream",
     "text": [
      "                                                                \r"
     ]
    },
    {
     "name": "stdout",
     "output_type": "stream",
     "text": [
      "Moviepy - Done !\n",
      "Moviepy - video ready /home/sowell/projects/rl_group_assignment/videos/rainbow_dqn/trained/rl-video-episode-3.mp4\n",
      "Moviepy - Building video /home/sowell/projects/rl_group_assignment/videos/rainbow_dqn/trained/rl-video-episode-4.mp4.\n",
      "Moviepy - Writing video /home/sowell/projects/rl_group_assignment/videos/rainbow_dqn/trained/rl-video-episode-4.mp4\n",
      "\n"
     ]
    },
    {
     "name": "stderr",
     "output_type": "stream",
     "text": [
      "                                                                "
     ]
    },
    {
     "name": "stdout",
     "output_type": "stream",
     "text": [
      "Moviepy - Done !\n",
      "Moviepy - video ready /home/sowell/projects/rl_group_assignment/videos/rainbow_dqn/trained/rl-video-episode-4.mp4\n"
     ]
    },
    {
     "name": "stderr",
     "output_type": "stream",
     "text": [
      "\r"
     ]
    },
    {
     "name": "stdout",
     "output_type": "stream",
     "text": [
      "Moviepy - Building video /home/sowell/projects/rl_group_assignment/videos/rainbow_dqn/trained/rl-video-episode-5.mp4.\n",
      "Moviepy - Writing video /home/sowell/projects/rl_group_assignment/videos/rainbow_dqn/trained/rl-video-episode-5.mp4\n",
      "\n"
     ]
    },
    {
     "name": "stderr",
     "output_type": "stream",
     "text": [
      "                                                                \r"
     ]
    },
    {
     "name": "stdout",
     "output_type": "stream",
     "text": [
      "Moviepy - Done !\n",
      "Moviepy - video ready /home/sowell/projects/rl_group_assignment/videos/rainbow_dqn/trained/rl-video-episode-5.mp4\n",
      "Moviepy - Building video /home/sowell/projects/rl_group_assignment/videos/rainbow_dqn/trained/rl-video-episode-6.mp4.\n",
      "Moviepy - Writing video /home/sowell/projects/rl_group_assignment/videos/rainbow_dqn/trained/rl-video-episode-6.mp4\n",
      "\n"
     ]
    },
    {
     "name": "stderr",
     "output_type": "stream",
     "text": [
      "                                                                \r"
     ]
    },
    {
     "name": "stdout",
     "output_type": "stream",
     "text": [
      "Moviepy - Done !\n",
      "Moviepy - video ready /home/sowell/projects/rl_group_assignment/videos/rainbow_dqn/trained/rl-video-episode-6.mp4\n",
      "Moviepy - Building video /home/sowell/projects/rl_group_assignment/videos/rainbow_dqn/trained/rl-video-episode-7.mp4.\n",
      "Moviepy - Writing video /home/sowell/projects/rl_group_assignment/videos/rainbow_dqn/trained/rl-video-episode-7.mp4\n",
      "\n"
     ]
    },
    {
     "name": "stderr",
     "output_type": "stream",
     "text": [
      "                                                                \r"
     ]
    },
    {
     "name": "stdout",
     "output_type": "stream",
     "text": [
      "Moviepy - Done !\n",
      "Moviepy - video ready /home/sowell/projects/rl_group_assignment/videos/rainbow_dqn/trained/rl-video-episode-7.mp4\n",
      "Moviepy - Building video /home/sowell/projects/rl_group_assignment/videos/rainbow_dqn/trained/rl-video-episode-8.mp4.\n",
      "Moviepy - Writing video /home/sowell/projects/rl_group_assignment/videos/rainbow_dqn/trained/rl-video-episode-8.mp4\n",
      "\n"
     ]
    },
    {
     "name": "stderr",
     "output_type": "stream",
     "text": [
      "                                                                \r"
     ]
    },
    {
     "name": "stdout",
     "output_type": "stream",
     "text": [
      "Moviepy - Done !\n",
      "Moviepy - video ready /home/sowell/projects/rl_group_assignment/videos/rainbow_dqn/trained/rl-video-episode-8.mp4\n",
      "Moviepy - Building video /home/sowell/projects/rl_group_assignment/videos/rainbow_dqn/trained/rl-video-episode-9.mp4.\n",
      "Moviepy - Writing video /home/sowell/projects/rl_group_assignment/videos/rainbow_dqn/trained/rl-video-episode-9.mp4\n",
      "\n"
     ]
    },
    {
     "name": "stderr",
     "output_type": "stream",
     "text": [
      "                                                                "
     ]
    },
    {
     "name": "stdout",
     "output_type": "stream",
     "text": [
      "Moviepy - Done !\n",
      "Moviepy - video ready /home/sowell/projects/rl_group_assignment/videos/rainbow_dqn/trained/rl-video-episode-9.mp4\n"
     ]
    },
    {
     "name": "stderr",
     "output_type": "stream",
     "text": [
      "\r"
     ]
    }
   ],
   "source": [
    "film(env, agent, 10, \"../videos/rainbow_dqn/trained/\")"
   ]
  },
  {
   "cell_type": "code",
   "execution_count": null,
   "metadata": {},
   "outputs": [],
   "source": []
  }
 ],
 "metadata": {
  "kernelspec": {
   "display_name": "venv",
   "language": "python",
   "name": "python3"
  },
  "language_info": {
   "codemirror_mode": {
    "name": "ipython",
    "version": 3
   },
   "file_extension": ".py",
   "mimetype": "text/x-python",
   "name": "python",
   "nbconvert_exporter": "python",
   "pygments_lexer": "ipython3",
   "version": "3.11.5"
  }
 },
 "nbformat": 4,
 "nbformat_minor": 2
}
